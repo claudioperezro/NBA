{
 "cells": [
  {
   "cell_type": "markdown",
   "metadata": {},
   "source": [
    "# Offense vs Defense in the NBA: the ultimate debate. \n",
    "\n",
    "### *Is being perfect at both really necesary to win it all?*"
   ]
  },
  {
   "cell_type": "markdown",
   "metadata": {},
   "source": [
    "![title](images/harden.jpeg)"
   ]
  },
  {
   "cell_type": "markdown",
   "metadata": {},
   "source": [
    "*Pictured Above*: James Harden, one of the most prolific players of his era is well on his way to become one of the best offensive players to ever play the game. His deffense however left many fans questioning whether he and his offense-heavy team could ever pull off the championship during his time in Houston. "
   ]
  },
  {
   "cell_type": "markdown",
   "metadata": {},
   "source": [
    "### Intro\n",
    "\n",
    "We’ve all heard it before: Offenses win games, defenses win championships. At least in popular sports like Baseball, playing defense looks completely different from playing offense. In American Football, there are literally two different sets of people playing 2 completely different sports. Each unit requires a completely different set of skills and players are not expected to play both disciplines. Compare this with sports like Football(Soccer)and Basketball, where players are expected to play both positions. In a matter of seconds, the game switches from offense to defense and back to offense, demanding that players remain ready to guard a player. In this context, an extremely talented shooter might be a liability in defense. This has been a struggle since the beginning of the game, because coaches know that any player that steps into the court will need to step up his defense.\n",
    "\n",
    "So really, how important is a team’s defense compared to its offense? Can a team compensate a bad defense with killer offense? This might seem like a trivial question, but its implications are real. Teams have limited resources (salary) as well as a limited number of roster spots, so GM's (General Managers) and Head Coaches are faced with decisions. \n"
   ]
  },
  {
   "cell_type": "markdown",
   "metadata": {},
   "source": [
    "### About the project\n",
    "There has been a recent revolution in major sports: that of incorporating data into not only the way they play the game, but the way they train, eat and sleep. This has led to \"rosters with more skilled, more well-rounded players that are better rested, and increased the profitability of the NBA.\"(randerson112358) NBA teams are investing huge amounts of resources into data-based decision making and that is only going to get bigger. This project will try to give some insight into one of the biggest dichotomies in modern sports, and will hopefully lead to useful insights about the game and the players that shape it. \n",
    "\n",
    "#### Who will be directly affected by the creation of this project?\n",
    "\n",
    "The implications of effectively solving a problem like this start at a player level, but it goes as far as organization level. To give an example, if projects like this one consistently find that offensive heavy teams can consistently win and get into the playoffs without having a good defense, organizations might be inclined to focus their attention into scouting and developing offensively skilled players. The inverse can also be true, where teams might realize that investing the time and effort into finding good defensive players is “easier” than offensively skilled players and projects like this show that a good offense is practically indistinguishable from a good defense when we see team success. \n",
    "\n",
    "Teams can start adjusting scouting location, training camps, rosters, lineups and even plays during the game if they realize that one of the two is heavily underrated in team success. The main point here is that organizations are trying build teams that deliver *results* and we want to learn more about what a prototypically good team looks like and how well we can distinguish one by looking at offense and defense. \n",
    "\n",
    "#### What business problem(s) will this Data Science project solve for the organization?\n",
    "\n",
    "A small to medium market team might be halfway through the season wondering if they have what it takes to have a winning Season. Winning Seasons provide teams the opportunity to climb the standings and make it to the playoffs, so it is important for a team to know whether the roster could be able to end up winning more games or not as it is. If a team decides that its current roster doesn’t have what it takes for the rest of the season, it could trade players and look for better opportunities so it is important to understand what makes a good team win and how a good team looks. \n",
    "\n",
    "#### What problems are inside the scope of this project?\n",
    "\n",
    "We’re not going to be able to solve a problem as big as this with one project. This project is meant to provide insight about how performance translates into results. Understanding what a good team looks like in both defense and offense will lead to very important problems that we’ll have to deal with. \n",
    "\n",
    "#### What problems are outside the scope of this project?\n",
    "\n",
    "Answering questions like, “should teams be making more midrange or paint shots?” Are out of the scope of the project. Even though we have information about the shooting locations and effectiveness from every area, we won’t delve into models with different shooting locations. We want to feed the different shooting shooting performances by zone to our models, and if we do get insights about them that would be really good, but that is not the point or the objective of this project. \n",
    "\n",
    "#### What is the expected timeline for this project? Are there hard deadlines (e.g. \"must be live before holiday season shopping\") or is this an ongoing project?\n",
    "\n",
    "Understanding what a good “playoff” team looks like with a model can be tested with the current NBA season. As of March 28, 2021 we don’t know how teams will end their season. The trade deadline is already past so teams don’t really have an opportunity to change their teams now, but it will be really interesting to test out the models on an ongoing season. \n",
    "\n",
    "\n"
   ]
  },
  {
   "cell_type": "markdown",
   "metadata": {},
   "source": [
    "![title](images/klay.jpeg)"
   ]
  },
  {
   "cell_type": "markdown",
   "metadata": {},
   "source": [
    "## In comes the data\n",
    "\n",
    "Let’s Try to answer this question with NBA stats. The NBA has a way of accessing every single STAT you could think of in their webpage . You can have a lot of fun without writing a single line of code just by looking at the data in their page: https://www.nba.com/stats/ For this project I will be using two different sets of data: One that measures teams’ offensive performance and one that measures teams’ defensive performances. Let´s take a look at what these 2 different data sets look like."
   ]
  },
  {
   "cell_type": "code",
   "execution_count": 1,
   "metadata": {},
   "outputs": [],
   "source": [
    "import pandas as pd\n",
    "import matplotlib.pyplot as plt\n",
    "import numpy as np\n",
    "%matplotlib inline  \n",
    "\n",
    "team_shooting = pd.read_csv('data/team.csv') #Offensive Dataset\n",
    "opponent_shooting = pd.read_csv('data/opposing.csv')#Defensive Dataset"
   ]
  },
  {
   "cell_type": "markdown",
   "metadata": {},
   "source": [
    "### Team Shooting by Zone (Offense)\n",
    "The first dataset tracks teams’ offensive performances in other words, how good teams shot the ball. Each row represents a different team and the columns contain information about ***that team’s*** shooting during ***1 NBA complete season***. The data is divided by shooting zones, so we have information on how well teams shot in the left corner 3, or in the midrange for example. The screenshot of our dataset shown below, shows how well the Atlanta Hawks and 6 other teams shot the ball in the 2020 season. In the NBA’s page we can then toggle the 2019 season and see the offensive performance for that season. I went ahead and concatenated every season spanning back to 1997 into a single data frame, so at the end of the day each row is a different historical team (2010 Rockets is a different team from the 2012 rockets) and how well that team shot the ball that season. You can think of each row as a report card for the complete season."
   ]
  },
  {
   "cell_type": "code",
   "execution_count": 2,
   "metadata": {},
   "outputs": [
    {
     "data": {
      "text/html": [
       "<div>\n",
       "<style scoped>\n",
       "    .dataframe tbody tr th:only-of-type {\n",
       "        vertical-align: middle;\n",
       "    }\n",
       "\n",
       "    .dataframe tbody tr th {\n",
       "        vertical-align: top;\n",
       "    }\n",
       "\n",
       "    .dataframe thead th {\n",
       "        text-align: right;\n",
       "    }\n",
       "</style>\n",
       "<table border=\"1\" class=\"dataframe\">\n",
       "  <thead>\n",
       "    <tr style=\"text-align: right;\">\n",
       "      <th></th>\n",
       "      <th>TEAM</th>\n",
       "      <th>RA FGM</th>\n",
       "      <th>RA FGA</th>\n",
       "      <th>RA FG%</th>\n",
       "      <th>PAINT FGM</th>\n",
       "      <th>PAINT FGA</th>\n",
       "      <th>PAINT FG%</th>\n",
       "      <th>MIDRANGE FGM</th>\n",
       "      <th>MIDRANGE FGA</th>\n",
       "      <th>MIDRANGE FG%</th>\n",
       "      <th>...</th>\n",
       "      <th>RIGHT CORNER FG%</th>\n",
       "      <th>CORNER 3 FGM</th>\n",
       "      <th>CORNER 3 FGA</th>\n",
       "      <th>CORNER 3 FG%</th>\n",
       "      <th>ATB 3 FGM</th>\n",
       "      <th>ATB FGA</th>\n",
       "      <th>ATB FG%</th>\n",
       "      <th>YEAR</th>\n",
       "      <th>SEASON WIN PCT</th>\n",
       "      <th>PLAYOFFS</th>\n",
       "    </tr>\n",
       "  </thead>\n",
       "  <tbody>\n",
       "    <tr>\n",
       "      <th>0</th>\n",
       "      <td>Atlanta Hawks</td>\n",
       "      <td>746.0</td>\n",
       "      <td>1206.0</td>\n",
       "      <td>61.9</td>\n",
       "      <td>313.0</td>\n",
       "      <td>756.0</td>\n",
       "      <td>41.4</td>\n",
       "      <td>174.0</td>\n",
       "      <td>399.0</td>\n",
       "      <td>43.6</td>\n",
       "      <td>...</td>\n",
       "      <td>33.3</td>\n",
       "      <td>130.0</td>\n",
       "      <td>332.0</td>\n",
       "      <td>39.2</td>\n",
       "      <td>436.0</td>\n",
       "      <td>1220.0</td>\n",
       "      <td>35.7</td>\n",
       "      <td>2021.0</td>\n",
       "      <td>0.511</td>\n",
       "      <td>1</td>\n",
       "    </tr>\n",
       "    <tr>\n",
       "      <th>1</th>\n",
       "      <td>Boston Celtics</td>\n",
       "      <td>710.0</td>\n",
       "      <td>1076.0</td>\n",
       "      <td>66.0</td>\n",
       "      <td>337.0</td>\n",
       "      <td>792.0</td>\n",
       "      <td>42.6</td>\n",
       "      <td>243.0</td>\n",
       "      <td>581.0</td>\n",
       "      <td>41.8</td>\n",
       "      <td>...</td>\n",
       "      <td>37.3</td>\n",
       "      <td>121.0</td>\n",
       "      <td>300.0</td>\n",
       "      <td>40.3</td>\n",
       "      <td>461.0</td>\n",
       "      <td>1225.0</td>\n",
       "      <td>37.6</td>\n",
       "      <td>2021.0</td>\n",
       "      <td>0.489</td>\n",
       "      <td>1</td>\n",
       "    </tr>\n",
       "    <tr>\n",
       "      <th>2</th>\n",
       "      <td>Brooklyn Nets</td>\n",
       "      <td>815.0</td>\n",
       "      <td>1220.0</td>\n",
       "      <td>66.8</td>\n",
       "      <td>317.0</td>\n",
       "      <td>686.0</td>\n",
       "      <td>46.2</td>\n",
       "      <td>200.0</td>\n",
       "      <td>438.0</td>\n",
       "      <td>45.7</td>\n",
       "      <td>...</td>\n",
       "      <td>37.3</td>\n",
       "      <td>153.0</td>\n",
       "      <td>385.0</td>\n",
       "      <td>39.7</td>\n",
       "      <td>508.0</td>\n",
       "      <td>1289.0</td>\n",
       "      <td>39.4</td>\n",
       "      <td>2021.0</td>\n",
       "      <td>0.674</td>\n",
       "      <td>1</td>\n",
       "    </tr>\n",
       "    <tr>\n",
       "      <th>3</th>\n",
       "      <td>Charlotte Hornets</td>\n",
       "      <td>765.0</td>\n",
       "      <td>1279.0</td>\n",
       "      <td>59.8</td>\n",
       "      <td>252.0</td>\n",
       "      <td>599.0</td>\n",
       "      <td>42.1</td>\n",
       "      <td>151.0</td>\n",
       "      <td>378.0</td>\n",
       "      <td>39.9</td>\n",
       "      <td>...</td>\n",
       "      <td>44.0</td>\n",
       "      <td>151.0</td>\n",
       "      <td>353.0</td>\n",
       "      <td>42.8</td>\n",
       "      <td>467.0</td>\n",
       "      <td>1242.0</td>\n",
       "      <td>37.6</td>\n",
       "      <td>2021.0</td>\n",
       "      <td>0.523</td>\n",
       "      <td>1</td>\n",
       "    </tr>\n",
       "    <tr>\n",
       "      <th>4</th>\n",
       "      <td>Chicago Bulls</td>\n",
       "      <td>795.0</td>\n",
       "      <td>1227.0</td>\n",
       "      <td>64.8</td>\n",
       "      <td>279.0</td>\n",
       "      <td>639.0</td>\n",
       "      <td>43.7</td>\n",
       "      <td>204.0</td>\n",
       "      <td>489.0</td>\n",
       "      <td>41.7</td>\n",
       "      <td>...</td>\n",
       "      <td>41.3</td>\n",
       "      <td>173.0</td>\n",
       "      <td>389.0</td>\n",
       "      <td>44.5</td>\n",
       "      <td>378.0</td>\n",
       "      <td>1070.0</td>\n",
       "      <td>35.3</td>\n",
       "      <td>2021.0</td>\n",
       "      <td>0.442</td>\n",
       "      <td>0</td>\n",
       "    </tr>\n",
       "  </tbody>\n",
       "</table>\n",
       "<p>5 rows × 25 columns</p>\n",
       "</div>"
      ],
      "text/plain": [
       "                TEAM  RA FGM  RA FGA  RA FG%  PAINT FGM  PAINT FGA  PAINT FG%  \\\n",
       "0      Atlanta Hawks   746.0  1206.0    61.9      313.0      756.0       41.4   \n",
       "1     Boston Celtics   710.0  1076.0    66.0      337.0      792.0       42.6   \n",
       "2      Brooklyn Nets   815.0  1220.0    66.8      317.0      686.0       46.2   \n",
       "3  Charlotte Hornets   765.0  1279.0    59.8      252.0      599.0       42.1   \n",
       "4      Chicago Bulls   795.0  1227.0    64.8      279.0      639.0       43.7   \n",
       "\n",
       "   MIDRANGE FGM  MIDRANGE FGA  MIDRANGE FG%  ...  RIGHT CORNER FG%  \\\n",
       "0         174.0         399.0          43.6  ...              33.3   \n",
       "1         243.0         581.0          41.8  ...              37.3   \n",
       "2         200.0         438.0          45.7  ...              37.3   \n",
       "3         151.0         378.0          39.9  ...              44.0   \n",
       "4         204.0         489.0          41.7  ...              41.3   \n",
       "\n",
       "   CORNER 3 FGM  CORNER 3 FGA  CORNER 3 FG%  ATB 3 FGM  ATB FGA  ATB FG%  \\\n",
       "0         130.0         332.0          39.2      436.0   1220.0     35.7   \n",
       "1         121.0         300.0          40.3      461.0   1225.0     37.6   \n",
       "2         153.0         385.0          39.7      508.0   1289.0     39.4   \n",
       "3         151.0         353.0          42.8      467.0   1242.0     37.6   \n",
       "4         173.0         389.0          44.5      378.0   1070.0     35.3   \n",
       "\n",
       "     YEAR  SEASON WIN PCT  PLAYOFFS  \n",
       "0  2021.0           0.511         1  \n",
       "1  2021.0           0.489         1  \n",
       "2  2021.0           0.674         1  \n",
       "3  2021.0           0.523         1  \n",
       "4  2021.0           0.442         0  \n",
       "\n",
       "[5 rows x 25 columns]"
      ]
     },
     "execution_count": 2,
     "metadata": {},
     "output_type": "execute_result"
    }
   ],
   "source": [
    "team_shooting.head()"
   ]
  },
  {
   "cell_type": "markdown",
   "metadata": {},
   "source": [
    "### NBA Glossary:\n",
    "- **FGA**: Field Goal Attempted. The number of shots attempted. \n",
    "- **FGM**: Field Goal Made. The number of succesful shots. \n",
    "- **FG%**: Field Goal Percentage. The percentage of shots made.(FGM divided by FGA multiplied by 100)\n",
    "- **Season Win PCT**: The number of games won divided by the number of games played. (A complete NBA Regular season has 82 games)\n",
    "- **Playoffs**: Elimination tournament annually held after the National Basketball Association (NBA)'s regular season to determine the league's champion. In our data set, that is represented by a 1 if the team played in the playoffs or 0 if it didn´t.\n",
    "\n",
    "Here are the basic shooting zones:\n",
    "\n",
    "- **Corner 3:** The small area on the left and right side of the court near the baseline. The 3-point line is a few inches closer to the basket in the corners.\n",
    "- **In The Paint:** These are shots taken inside the key, the rectangular box close to the basket that measures 15 feet out to the free throw line and 16 feet wide.\n",
    "- **Restricted Area:** The four-foot area directly surrounding the basket, marked by a semicircle in the paint.\n",
    "- **Mid-range:** Any shot that comes outside the paint but inside the 3-point line.\n",
    "- **Above the Break 3:** Any 3-pointer that is not taken from the corners."
   ]
  },
  {
   "cell_type": "markdown",
   "metadata": {},
   "source": [
    "![title](images/zones.png)"
   ]
  },
  {
   "cell_type": "markdown",
   "metadata": {},
   "source": [
    "### Opponent Shooting by Zone (Defense)\n",
    "Here comes the cool part about the project. Instead of using the classic defensive performance parameters like steals and blocks, I found the same exact shooting data as the one above, only instead of containing numbers about the team’s own shooting, it contains their opponents shooting numbers. In other words, if I go to a random row, say the 2018 Boston Celtics, the row contains information about how well opposing teams shot the ball that season when playing against that Celtics team. And it’s exactly the same format as our offensive team performance information, so we get to see shot zones too. With this format we can notice defensive trends that we can’t see with the traditional info. Maybe the 2005 lakers were extremely good at stopping teams near the basket (their opponents’ paint numbers are hideous) but were really bad at guarding the three pointer(their opponents shot the triple better against them than the league average)\n"
   ]
  },
  {
   "cell_type": "code",
   "execution_count": 3,
   "metadata": {
    "scrolled": true
   },
   "outputs": [
    {
     "data": {
      "text/html": [
       "<div>\n",
       "<style scoped>\n",
       "    .dataframe tbody tr th:only-of-type {\n",
       "        vertical-align: middle;\n",
       "    }\n",
       "\n",
       "    .dataframe tbody tr th {\n",
       "        vertical-align: top;\n",
       "    }\n",
       "\n",
       "    .dataframe thead th {\n",
       "        text-align: right;\n",
       "    }\n",
       "</style>\n",
       "<table border=\"1\" class=\"dataframe\">\n",
       "  <thead>\n",
       "    <tr style=\"text-align: right;\">\n",
       "      <th></th>\n",
       "      <th>TEAM</th>\n",
       "      <th>RA FGM</th>\n",
       "      <th>RA FGA</th>\n",
       "      <th>RA FG%</th>\n",
       "      <th>PAINT FGM</th>\n",
       "      <th>PAINT FGA</th>\n",
       "      <th>PAINT FG%</th>\n",
       "      <th>MIDRANGE FGM</th>\n",
       "      <th>MIDRANGE FGA</th>\n",
       "      <th>MIDRANGE FG%</th>\n",
       "      <th>...</th>\n",
       "      <th>RIGHT CORNER FG%</th>\n",
       "      <th>CORNER 3 FGM</th>\n",
       "      <th>CORNER 3 FGA</th>\n",
       "      <th>CORNER 3 FG%</th>\n",
       "      <th>ATB 3 FGM</th>\n",
       "      <th>ATB FGA</th>\n",
       "      <th>ATB FG%</th>\n",
       "      <th>YEAR</th>\n",
       "      <th>SEASON WIN PCT</th>\n",
       "      <th>PLAYOFFS</th>\n",
       "    </tr>\n",
       "  </thead>\n",
       "  <tbody>\n",
       "    <tr>\n",
       "      <th>0</th>\n",
       "      <td>Atlanta Hawks</td>\n",
       "      <td>801</td>\n",
       "      <td>1288</td>\n",
       "      <td>62.2</td>\n",
       "      <td>274</td>\n",
       "      <td>689</td>\n",
       "      <td>39.8</td>\n",
       "      <td>218</td>\n",
       "      <td>490</td>\n",
       "      <td>44.5</td>\n",
       "      <td>...</td>\n",
       "      <td>37.2</td>\n",
       "      <td>137</td>\n",
       "      <td>353</td>\n",
       "      <td>38.8</td>\n",
       "      <td>392</td>\n",
       "      <td>1157</td>\n",
       "      <td>33.9</td>\n",
       "      <td>2021</td>\n",
       "      <td>0.511</td>\n",
       "      <td>1</td>\n",
       "    </tr>\n",
       "    <tr>\n",
       "      <th>1</th>\n",
       "      <td>Boston Celtics</td>\n",
       "      <td>684</td>\n",
       "      <td>1049</td>\n",
       "      <td>65.2</td>\n",
       "      <td>338</td>\n",
       "      <td>768</td>\n",
       "      <td>44.0</td>\n",
       "      <td>210</td>\n",
       "      <td>498</td>\n",
       "      <td>42.2</td>\n",
       "      <td>...</td>\n",
       "      <td>38.7</td>\n",
       "      <td>143</td>\n",
       "      <td>365</td>\n",
       "      <td>39.2</td>\n",
       "      <td>432</td>\n",
       "      <td>1186</td>\n",
       "      <td>36.4</td>\n",
       "      <td>2021</td>\n",
       "      <td>0.489</td>\n",
       "      <td>1</td>\n",
       "    </tr>\n",
       "    <tr>\n",
       "      <th>2</th>\n",
       "      <td>Brooklyn Nets</td>\n",
       "      <td>765</td>\n",
       "      <td>1195</td>\n",
       "      <td>64.0</td>\n",
       "      <td>367</td>\n",
       "      <td>845</td>\n",
       "      <td>43.4</td>\n",
       "      <td>226</td>\n",
       "      <td>535</td>\n",
       "      <td>42.2</td>\n",
       "      <td>...</td>\n",
       "      <td>32.6</td>\n",
       "      <td>144</td>\n",
       "      <td>407</td>\n",
       "      <td>35.4</td>\n",
       "      <td>458</td>\n",
       "      <td>1226</td>\n",
       "      <td>37.4</td>\n",
       "      <td>2021</td>\n",
       "      <td>0.674</td>\n",
       "      <td>1</td>\n",
       "    </tr>\n",
       "    <tr>\n",
       "      <th>3</th>\n",
       "      <td>Charlotte Hornets</td>\n",
       "      <td>840</td>\n",
       "      <td>1280</td>\n",
       "      <td>65.6</td>\n",
       "      <td>209</td>\n",
       "      <td>481</td>\n",
       "      <td>43.5</td>\n",
       "      <td>126</td>\n",
       "      <td>336</td>\n",
       "      <td>37.5</td>\n",
       "      <td>...</td>\n",
       "      <td>38.2</td>\n",
       "      <td>221</td>\n",
       "      <td>549</td>\n",
       "      <td>40.3</td>\n",
       "      <td>433</td>\n",
       "      <td>1221</td>\n",
       "      <td>35.5</td>\n",
       "      <td>2021</td>\n",
       "      <td>0.523</td>\n",
       "      <td>1</td>\n",
       "    </tr>\n",
       "    <tr>\n",
       "      <th>4</th>\n",
       "      <td>Chicago Bulls</td>\n",
       "      <td>786</td>\n",
       "      <td>1251</td>\n",
       "      <td>62.8</td>\n",
       "      <td>299</td>\n",
       "      <td>652</td>\n",
       "      <td>45.9</td>\n",
       "      <td>238</td>\n",
       "      <td>531</td>\n",
       "      <td>44.8</td>\n",
       "      <td>...</td>\n",
       "      <td>42.6</td>\n",
       "      <td>125</td>\n",
       "      <td>296</td>\n",
       "      <td>42.2</td>\n",
       "      <td>361</td>\n",
       "      <td>1100</td>\n",
       "      <td>32.8</td>\n",
       "      <td>2021</td>\n",
       "      <td>0.442</td>\n",
       "      <td>0</td>\n",
       "    </tr>\n",
       "  </tbody>\n",
       "</table>\n",
       "<p>5 rows × 25 columns</p>\n",
       "</div>"
      ],
      "text/plain": [
       "                TEAM  RA FGM  RA FGA  RA FG%  PAINT FGM  PAINT FGA  PAINT FG%  \\\n",
       "0      Atlanta Hawks     801    1288    62.2        274        689       39.8   \n",
       "1     Boston Celtics     684    1049    65.2        338        768       44.0   \n",
       "2      Brooklyn Nets     765    1195    64.0        367        845       43.4   \n",
       "3  Charlotte Hornets     840    1280    65.6        209        481       43.5   \n",
       "4      Chicago Bulls     786    1251    62.8        299        652       45.9   \n",
       "\n",
       "   MIDRANGE FGM  MIDRANGE FGA  MIDRANGE FG%  ...  RIGHT CORNER FG%  \\\n",
       "0           218           490          44.5  ...              37.2   \n",
       "1           210           498          42.2  ...              38.7   \n",
       "2           226           535          42.2  ...              32.6   \n",
       "3           126           336          37.5  ...              38.2   \n",
       "4           238           531          44.8  ...              42.6   \n",
       "\n",
       "   CORNER 3 FGM  CORNER 3 FGA  CORNER 3 FG%  ATB 3 FGM  ATB FGA  ATB FG%  \\\n",
       "0           137           353          38.8        392     1157     33.9   \n",
       "1           143           365          39.2        432     1186     36.4   \n",
       "2           144           407          35.4        458     1226     37.4   \n",
       "3           221           549          40.3        433     1221     35.5   \n",
       "4           125           296          42.2        361     1100     32.8   \n",
       "\n",
       "   YEAR  SEASON WIN PCT  PLAYOFFS  \n",
       "0  2021           0.511         1  \n",
       "1  2021           0.489         1  \n",
       "2  2021           0.674         1  \n",
       "3  2021           0.523         1  \n",
       "4  2021           0.442         0  \n",
       "\n",
       "[5 rows x 25 columns]"
      ]
     },
     "execution_count": 3,
     "metadata": {},
     "output_type": "execute_result"
    }
   ],
   "source": [
    "opponent_shooting.head()"
   ]
  },
  {
   "cell_type": "markdown",
   "metadata": {},
   "source": [
    "### The idea\n",
    "\n",
    "I will build two different classification models, one will only get offensive performance data and the other will only get defensive performance data. The target parameter, or the thing they’re trying to predict is whether a team is a winning team or not. A winning team is one that won more games than it lost in the season (Win pct > 0.5).\n",
    "\n",
    "So just to recap, the idea is to feed teams’ shooting performance information as well as their winning record for the season (did they win a lot of games?) to the first model. Once it’s trained, feed it a random, mysterious team. The model will then try to answer the question: did this unknown team win a lot of games that season based on how they shot the ball?\n",
    "\n",
    "Then, take all of the opponent shooting information and feed it to another model. The “defensive” model will have to classify whether the team had a winning or losing season based on the how well their opponents shot the ball when playing against them throughout that season. So this second model will have to classify whether this team won many games or not based only on how teams shot against them. The model won’t have any information about that random team’s shooting performance.\n",
    "\n",
    "Then I will test both models to see how well they do with data they’ve never seen before. I will give both models information about a mystery season for a mystery team and they will have to tell me whether they think it was a winning season for the team or not. The models’ accuracy will tell us about the implications of good offense or defense.\n"
   ]
  },
  {
   "cell_type": "code",
   "execution_count": 4,
   "metadata": {},
   "outputs": [
    {
     "name": "stdout",
     "output_type": "stream",
     "text": [
      "<class 'pandas.core.frame.DataFrame'>\n",
      "RangeIndex: 742 entries, 0 to 741\n",
      "Data columns (total 25 columns):\n",
      "TEAM                742 non-null object\n",
      "RA FGM              741 non-null float64\n",
      "RA FGA              741 non-null float64\n",
      "RA FG%              741 non-null float64\n",
      "PAINT FGM           741 non-null float64\n",
      "PAINT FGA           741 non-null float64\n",
      "PAINT FG%           741 non-null float64\n",
      "MIDRANGE FGM        741 non-null float64\n",
      "MIDRANGE FGA        741 non-null float64\n",
      "MIDRANGE FG%        741 non-null float64\n",
      "LEFT CORNER FGM     741 non-null float64\n",
      "LEFT CORNER FGA     741 non-null float64\n",
      "LEFT CORNER FG%     741 non-null float64\n",
      "RIGHT CORNER FGM    741 non-null float64\n",
      "RIGHT CORNER FGA    741 non-null float64\n",
      "RIGHT CORNER FG%    741 non-null float64\n",
      "CORNER 3 FGM        741 non-null float64\n",
      "CORNER 3 FGA        741 non-null float64\n",
      "CORNER 3 FG%        741 non-null float64\n",
      "ATB 3 FGM           741 non-null float64\n",
      "ATB FGA             741 non-null float64\n",
      "ATB FG%             741 non-null float64\n",
      "YEAR                741 non-null float64\n",
      "SEASON WIN PCT      742 non-null float64\n",
      "PLAYOFFS            742 non-null int64\n",
      "dtypes: float64(23), int64(1), object(1)\n",
      "memory usage: 145.0+ KB\n"
     ]
    }
   ],
   "source": [
    "team_shooting.info()"
   ]
  },
  {
   "cell_type": "code",
   "execution_count": 5,
   "metadata": {},
   "outputs": [
    {
     "name": "stdout",
     "output_type": "stream",
     "text": [
      "<class 'pandas.core.frame.DataFrame'>\n",
      "RangeIndex: 742 entries, 0 to 741\n",
      "Data columns (total 25 columns):\n",
      "TEAM                742 non-null object\n",
      "RA FGM              742 non-null int64\n",
      "RA FGA              742 non-null int64\n",
      "RA FG%              742 non-null float64\n",
      "PAINT FGM           742 non-null int64\n",
      "PAINT FGA           742 non-null int64\n",
      "PAINT FG%           742 non-null float64\n",
      "MIDRANGE FGM        742 non-null int64\n",
      "MIDRANGE FGA        742 non-null int64\n",
      "MIDRANGE FG%        742 non-null float64\n",
      "LEFT CORNER FGM     742 non-null int64\n",
      "LEFT CORNER FGA     742 non-null int64\n",
      "LEFT CORNER FG%     742 non-null float64\n",
      "RIGHT CORNER FGM    742 non-null int64\n",
      "RIGHT CORNER FGA    742 non-null int64\n",
      "RIGHT CORNER FG%    742 non-null float64\n",
      "CORNER 3 FGM        742 non-null int64\n",
      "CORNER 3 FGA        742 non-null int64\n",
      "CORNER 3 FG%        742 non-null float64\n",
      "ATB 3 FGM           742 non-null int64\n",
      "ATB FGA             742 non-null int64\n",
      "ATB FG%             742 non-null float64\n",
      "YEAR                742 non-null int64\n",
      "SEASON WIN PCT      742 non-null float64\n",
      "PLAYOFFS            742 non-null int64\n",
      "dtypes: float64(8), int64(16), object(1)\n",
      "memory usage: 145.0+ KB\n"
     ]
    }
   ],
   "source": [
    "opponent_shooting.info()"
   ]
  },
  {
   "cell_type": "markdown",
   "metadata": {},
   "source": [
    "### Classify Winners and Losers"
   ]
  },
  {
   "cell_type": "code",
   "execution_count": 6,
   "metadata": {},
   "outputs": [],
   "source": [
    "team_shooting['Winning Season'] = team_shooting['SEASON WIN PCT'].map(lambda x: 0 if x < 0.5 else 1)"
   ]
  },
  {
   "cell_type": "code",
   "execution_count": 7,
   "metadata": {},
   "outputs": [
    {
     "data": {
      "text/html": [
       "<div>\n",
       "<style scoped>\n",
       "    .dataframe tbody tr th:only-of-type {\n",
       "        vertical-align: middle;\n",
       "    }\n",
       "\n",
       "    .dataframe tbody tr th {\n",
       "        vertical-align: top;\n",
       "    }\n",
       "\n",
       "    .dataframe thead th {\n",
       "        text-align: right;\n",
       "    }\n",
       "</style>\n",
       "<table border=\"1\" class=\"dataframe\">\n",
       "  <thead>\n",
       "    <tr style=\"text-align: right;\">\n",
       "      <th></th>\n",
       "      <th>TEAM</th>\n",
       "      <th>RA FGM</th>\n",
       "      <th>RA FGA</th>\n",
       "      <th>RA FG%</th>\n",
       "      <th>PAINT FGM</th>\n",
       "      <th>PAINT FGA</th>\n",
       "      <th>PAINT FG%</th>\n",
       "      <th>MIDRANGE FGM</th>\n",
       "      <th>MIDRANGE FGA</th>\n",
       "      <th>MIDRANGE FG%</th>\n",
       "      <th>...</th>\n",
       "      <th>CORNER 3 FGM</th>\n",
       "      <th>CORNER 3 FGA</th>\n",
       "      <th>CORNER 3 FG%</th>\n",
       "      <th>ATB 3 FGM</th>\n",
       "      <th>ATB FGA</th>\n",
       "      <th>ATB FG%</th>\n",
       "      <th>YEAR</th>\n",
       "      <th>SEASON WIN PCT</th>\n",
       "      <th>PLAYOFFS</th>\n",
       "      <th>Winning Season</th>\n",
       "    </tr>\n",
       "  </thead>\n",
       "  <tbody>\n",
       "    <tr>\n",
       "      <th>0</th>\n",
       "      <td>Atlanta Hawks</td>\n",
       "      <td>746.0</td>\n",
       "      <td>1206.0</td>\n",
       "      <td>61.9</td>\n",
       "      <td>313.0</td>\n",
       "      <td>756.0</td>\n",
       "      <td>41.4</td>\n",
       "      <td>174.0</td>\n",
       "      <td>399.0</td>\n",
       "      <td>43.6</td>\n",
       "      <td>...</td>\n",
       "      <td>130.0</td>\n",
       "      <td>332.0</td>\n",
       "      <td>39.2</td>\n",
       "      <td>436.0</td>\n",
       "      <td>1220.0</td>\n",
       "      <td>35.7</td>\n",
       "      <td>2021.0</td>\n",
       "      <td>0.511</td>\n",
       "      <td>1</td>\n",
       "      <td>1</td>\n",
       "    </tr>\n",
       "    <tr>\n",
       "      <th>1</th>\n",
       "      <td>Boston Celtics</td>\n",
       "      <td>710.0</td>\n",
       "      <td>1076.0</td>\n",
       "      <td>66.0</td>\n",
       "      <td>337.0</td>\n",
       "      <td>792.0</td>\n",
       "      <td>42.6</td>\n",
       "      <td>243.0</td>\n",
       "      <td>581.0</td>\n",
       "      <td>41.8</td>\n",
       "      <td>...</td>\n",
       "      <td>121.0</td>\n",
       "      <td>300.0</td>\n",
       "      <td>40.3</td>\n",
       "      <td>461.0</td>\n",
       "      <td>1225.0</td>\n",
       "      <td>37.6</td>\n",
       "      <td>2021.0</td>\n",
       "      <td>0.489</td>\n",
       "      <td>1</td>\n",
       "      <td>0</td>\n",
       "    </tr>\n",
       "    <tr>\n",
       "      <th>2</th>\n",
       "      <td>Brooklyn Nets</td>\n",
       "      <td>815.0</td>\n",
       "      <td>1220.0</td>\n",
       "      <td>66.8</td>\n",
       "      <td>317.0</td>\n",
       "      <td>686.0</td>\n",
       "      <td>46.2</td>\n",
       "      <td>200.0</td>\n",
       "      <td>438.0</td>\n",
       "      <td>45.7</td>\n",
       "      <td>...</td>\n",
       "      <td>153.0</td>\n",
       "      <td>385.0</td>\n",
       "      <td>39.7</td>\n",
       "      <td>508.0</td>\n",
       "      <td>1289.0</td>\n",
       "      <td>39.4</td>\n",
       "      <td>2021.0</td>\n",
       "      <td>0.674</td>\n",
       "      <td>1</td>\n",
       "      <td>1</td>\n",
       "    </tr>\n",
       "    <tr>\n",
       "      <th>3</th>\n",
       "      <td>Charlotte Hornets</td>\n",
       "      <td>765.0</td>\n",
       "      <td>1279.0</td>\n",
       "      <td>59.8</td>\n",
       "      <td>252.0</td>\n",
       "      <td>599.0</td>\n",
       "      <td>42.1</td>\n",
       "      <td>151.0</td>\n",
       "      <td>378.0</td>\n",
       "      <td>39.9</td>\n",
       "      <td>...</td>\n",
       "      <td>151.0</td>\n",
       "      <td>353.0</td>\n",
       "      <td>42.8</td>\n",
       "      <td>467.0</td>\n",
       "      <td>1242.0</td>\n",
       "      <td>37.6</td>\n",
       "      <td>2021.0</td>\n",
       "      <td>0.523</td>\n",
       "      <td>1</td>\n",
       "      <td>1</td>\n",
       "    </tr>\n",
       "    <tr>\n",
       "      <th>4</th>\n",
       "      <td>Chicago Bulls</td>\n",
       "      <td>795.0</td>\n",
       "      <td>1227.0</td>\n",
       "      <td>64.8</td>\n",
       "      <td>279.0</td>\n",
       "      <td>639.0</td>\n",
       "      <td>43.7</td>\n",
       "      <td>204.0</td>\n",
       "      <td>489.0</td>\n",
       "      <td>41.7</td>\n",
       "      <td>...</td>\n",
       "      <td>173.0</td>\n",
       "      <td>389.0</td>\n",
       "      <td>44.5</td>\n",
       "      <td>378.0</td>\n",
       "      <td>1070.0</td>\n",
       "      <td>35.3</td>\n",
       "      <td>2021.0</td>\n",
       "      <td>0.442</td>\n",
       "      <td>0</td>\n",
       "      <td>0</td>\n",
       "    </tr>\n",
       "  </tbody>\n",
       "</table>\n",
       "<p>5 rows × 26 columns</p>\n",
       "</div>"
      ],
      "text/plain": [
       "                TEAM  RA FGM  RA FGA  RA FG%  PAINT FGM  PAINT FGA  PAINT FG%  \\\n",
       "0      Atlanta Hawks   746.0  1206.0    61.9      313.0      756.0       41.4   \n",
       "1     Boston Celtics   710.0  1076.0    66.0      337.0      792.0       42.6   \n",
       "2      Brooklyn Nets   815.0  1220.0    66.8      317.0      686.0       46.2   \n",
       "3  Charlotte Hornets   765.0  1279.0    59.8      252.0      599.0       42.1   \n",
       "4      Chicago Bulls   795.0  1227.0    64.8      279.0      639.0       43.7   \n",
       "\n",
       "   MIDRANGE FGM  MIDRANGE FGA  MIDRANGE FG%  ...  CORNER 3 FGM  CORNER 3 FGA  \\\n",
       "0         174.0         399.0          43.6  ...         130.0         332.0   \n",
       "1         243.0         581.0          41.8  ...         121.0         300.0   \n",
       "2         200.0         438.0          45.7  ...         153.0         385.0   \n",
       "3         151.0         378.0          39.9  ...         151.0         353.0   \n",
       "4         204.0         489.0          41.7  ...         173.0         389.0   \n",
       "\n",
       "   CORNER 3 FG%  ATB 3 FGM  ATB FGA  ATB FG%    YEAR  SEASON WIN PCT  \\\n",
       "0          39.2      436.0   1220.0     35.7  2021.0           0.511   \n",
       "1          40.3      461.0   1225.0     37.6  2021.0           0.489   \n",
       "2          39.7      508.0   1289.0     39.4  2021.0           0.674   \n",
       "3          42.8      467.0   1242.0     37.6  2021.0           0.523   \n",
       "4          44.5      378.0   1070.0     35.3  2021.0           0.442   \n",
       "\n",
       "   PLAYOFFS  Winning Season  \n",
       "0         1               1  \n",
       "1         1               0  \n",
       "2         1               1  \n",
       "3         1               1  \n",
       "4         0               0  \n",
       "\n",
       "[5 rows x 26 columns]"
      ]
     },
     "execution_count": 7,
     "metadata": {},
     "output_type": "execute_result"
    }
   ],
   "source": [
    "team_shooting.head()"
   ]
  },
  {
   "cell_type": "markdown",
   "metadata": {},
   "source": [
    "# Restricted Area vs Season Wins"
   ]
  },
  {
   "cell_type": "code",
   "execution_count": 8,
   "metadata": {},
   "outputs": [
    {
     "data": {
      "text/plain": [
       "<matplotlib.axes._subplots.AxesSubplot at 0x7f92dbea3cc0>"
      ]
     },
     "execution_count": 8,
     "metadata": {},
     "output_type": "execute_result"
    },
    {
     "data": {
      "image/png": "[encoded data removed]",
      "text/plain": [
       "<Figure size 432x288 with 1 Axes>"
      ]
     },
     "metadata": {
      "needs_background": "light"
     },
     "output_type": "display_data"
    }
   ],
   "source": [
    "opponent_shooting.plot.scatter(x='RA FG%', y='SEASON WIN PCT')"
   ]
  },
  {
   "cell_type": "code",
   "execution_count": 9,
   "metadata": {},
   "outputs": [
    {
     "data": {
      "text/plain": [
       "<matplotlib.axes._subplots.AxesSubplot at 0x7f92dc344dd8>"
      ]
     },
     "execution_count": 9,
     "metadata": {},
     "output_type": "execute_result"
    },
    {
     "data": {
      "image/png": "[encoded data removed]",
      "text/plain": [
       "<Figure size 432x288 with 1 Axes>"
      ]
     },
     "metadata": {
      "needs_background": "light"
     },
     "output_type": "display_data"
    }
   ],
   "source": [
    "team_shooting.plot.scatter(x='RA FG%', y='SEASON WIN PCT')"
   ]
  },
  {
   "cell_type": "markdown",
   "metadata": {},
   "source": [
    "# Shooting Throughout the years\n",
    "the midrange is dead"
   ]
  },
  {
   "cell_type": "code",
   "execution_count": 10,
   "metadata": {},
   "outputs": [],
   "source": [
    "def attempts_pct(df,year):\n",
    "    specific = df.loc[df['YEAR'] == year]\n",
    "    specific_attempts = specific[['RA FGA','PAINT FGA','MIDRANGE FGA', 'CORNER 3 FGA', 'ATB FGA']]\n",
    "    specific_totals = specific_attempts.sum(axis = 0, skipna = True)\n",
    "    return specific_totals\n",
    "def plotbar(df,year1,year2):\n",
    "    specific_totals1 = attempts_pct(df,year1)\n",
    "    specific_totals2 = attempts_pct(df,year2)\n",
    "    \n",
    "    specific_totals1 = specific_totals1.map(lambda x: (x/specific_totals1.sum()*100))\n",
    "    specific_totals2 = specific_totals2.map(lambda x: (x/specific_totals2.sum()*100))\n",
    "   \n",
    "    compare_df = pd.DataFrame({'{}'.format(year1): specific_totals1,'{}'.format(year2): specific_totals2})\n",
    "    compare_df.plot.bar(title = 'Distribution of Attempted Shots by Zone in the {} and {} NBA Seasons'.format(year1-1,year2)\n",
    "                       ,figsize=(12,5))\n",
    "    plt.xlabel('ZONE')\n",
    "    plt.ylabel('Percentage of Shots Attempted')\n",
    "    plt.show()\n",
    "    print(compare_df)"
   ]
  },
  {
   "cell_type": "code",
   "execution_count": 11,
   "metadata": {
    "scrolled": true
   },
   "outputs": [
    {
     "data": {
      "image/png": "[encoded data removed]",
      "text/plain": [
       "<Figure size 864x360 with 1 Axes>"
      ]
     },
     "metadata": {
      "needs_background": "light"
     },
     "output_type": "display_data"
    },
    {
     "name": "stdout",
     "output_type": "stream",
     "text": [
      "                   1997       2018\n",
      "RA FGA        37.464832  31.666848\n",
      "PAINT FGA     11.877993  15.741324\n",
      "MIDRANGE FGA  39.969848  19.100022\n",
      "CORNER 3 FGA   3.056024   7.391220\n",
      "ATB FGA        7.631302  26.100586\n"
     ]
    }
   ],
   "source": [
    "plotbar(team_shooting,1997,2018)"
   ]
  },
  {
   "cell_type": "code",
   "execution_count": 12,
   "metadata": {},
   "outputs": [
    {
     "data": {
      "image/png": "[encoded data removed]",
      "text/plain": [
       "<Figure size 864x360 with 1 Axes>"
      ]
     },
     "metadata": {
      "needs_background": "light"
     },
     "output_type": "display_data"
    },
    {
     "name": "stdout",
     "output_type": "stream",
     "text": [
      "                   2016       2017\n",
      "RA FGA        32.510014  32.129590\n",
      "PAINT FGA     14.569083  14.240080\n",
      "MIDRANGE FGA  24.647993  22.238934\n",
      "CORNER 3 FGA   7.338530   7.482691\n",
      "ATB FGA       20.934380  23.908705\n"
     ]
    }
   ],
   "source": [
    "plotbar(team_shooting,2016,2017)"
   ]
  },
  {
   "cell_type": "code",
   "execution_count": 13,
   "metadata": {},
   "outputs": [],
   "source": [
    "def made(df,year):\n",
    "    specific = df.loc[df['YEAR'] == year]\n",
    "    specific_attempts = specific[['RA FGM','PAINT FGM','MIDRANGE FGM', 'CORNER 3 FGM', 'ATB 3 FGM']]\n",
    "    specific_totals = specific_attempts.sum(axis = 0, skipna = True)\n",
    "    return specific_totals\n",
    "def plotbar2(df,year1,year2):\n",
    "    attempts_totals1 = attempts_pct(df,year1)\n",
    "    attempts_totals2 = attempts_pct(df,year2)\n",
    "    \n",
    "    made_totals1 = made(df,year1)\n",
    "    made_totals2 = made(df,year2)\n",
    "    \n",
    "    pct1 = made_totals1.reset_index().drop('index',axis = 1).divide(attempts_totals1.reset_index().drop('index',axis = 1))\n",
    "    pct2 = made_totals2.reset_index().drop('index',axis = 1).divide(attempts_totals2.reset_index().drop('index',axis = 1))\n",
    "    \n",
    "    index = ['RA','PAINT','MIDRANGE', 'CORNER 3', 'ATB 3']\n",
    "    \n",
    "    \n",
    "   \n",
    "    compare_df = pd.DataFrame({'{}'.format(year1): pct1[0],'{}'.format(year2): pct2[0],'ZONE': index})\n",
    "    #compare_df.set_index(index)\n",
    "    compare_df = compare_df.set_index('ZONE')\n",
    "    print(compare_df)\n",
    "    compare_df.plot.bar(title = 'FG% by Zone in the {} and {} NBA Seasons'.format(year1-1,year2)\n",
    "                       ,figsize=(12,5))\n",
    "    plt.xlabel('ZONE')\n",
    "    plt.ylabel('FG%')\n",
    "    #plt.show()"
   ]
  },
  {
   "cell_type": "markdown",
   "metadata": {},
   "source": [
    "### FG% Throughout the Years"
   ]
  },
  {
   "cell_type": "code",
   "execution_count": 14,
   "metadata": {},
   "outputs": [
    {
     "name": "stdout",
     "output_type": "stream",
     "text": [
      "              1997      2017\n",
      "ZONE                        \n",
      "RA        0.547544  0.610991\n",
      "PAINT     0.433724  0.417564\n",
      "MIDRANGE  0.402518  0.402512\n",
      "CORNER 3  0.398298  0.387212\n",
      "ATB 3     0.334933  0.351474\n"
     ]
    },
    {
     "data": {
      "image/png": "[encoded data removed]",
      "text/plain": [
       "<Figure size 864x360 with 1 Axes>"
      ]
     },
     "metadata": {
      "needs_background": "light"
     },
     "output_type": "display_data"
    }
   ],
   "source": [
    "plotbar2(team_shooting,1997,2017)"
   ]
  },
  {
   "cell_type": "markdown",
   "metadata": {},
   "source": [
    "# Rockets' Shooting"
   ]
  },
  {
   "cell_type": "code",
   "execution_count": 16,
   "metadata": {
    "scrolled": true
   },
   "outputs": [
    {
     "data": {
      "image/png": "[encoded data removed]",
      "text/plain": [
       "<Figure size 720x432 with 1 Axes>"
      ]
     },
     "metadata": {
      "needs_background": "light"
     },
     "output_type": "display_data"
    }
   ],
   "source": [
    "import numpy as np\n",
    "rockets_shooting = team_shooting.loc[team_shooting['TEAM'] == 'Houston Rockets']\n",
    "rockets_shooting = rockets_shooting.iloc[::-1]\n",
    "\n",
    "z = np.polyfit(x=rockets_shooting['YEAR'], y=rockets_shooting['CORNER 3 FGA'], deg=1)\n",
    "p = np.poly1d(z)\n",
    "rockets_shooting['trendline'] = p(rockets_shooting['YEAR'])\n",
    "\n",
    "ax = rockets_shooting.plot.scatter(x ='YEAR', y='CORNER 3 FGA', figsize=(10,6))\n",
    "rockets_shooting.set_index('YEAR', inplace=True)\n",
    "rockets_shooting.trendline.sort_index(ascending=False).plot(ax=ax)\n",
    "plt.title('Corner 3\\'s Attempted by the Houston Rockets Throughout the Years')\n",
    "plt.show()\n"
   ]
  },
  {
   "cell_type": "markdown",
   "metadata": {},
   "source": [
    "### TEAM WINS THROUGHOUT THE YEARS"
   ]
  },
  {
   "cell_type": "code",
   "execution_count": 24,
   "metadata": {
    "scrolled": true
   },
   "outputs": [
    {
     "data": {
      "text/plain": [
       "<matplotlib.axes._subplots.AxesSubplot at 0x7f92dbf1a860>"
      ]
     },
     "execution_count": 24,
     "metadata": {},
     "output_type": "execute_result"
    },
    {
     "data": {
      "image/png": "[encoded data removed]",
      "text/plain": [
       "<Figure size 432x288 with 1 Axes>"
      ]
     },
     "metadata": {
      "needs_background": "light"
     },
     "output_type": "display_data"
    }
   ],
   "source": [
    "rockets_shooting.plot.scatter(x='year', y='SEASON WIN PCT')\n"
   ]
  },
  {
   "cell_type": "code",
   "execution_count": 22,
   "metadata": {},
   "outputs": [],
   "source": [
    "rockets_shooting['year'] = rockets_shooting.index"
   ]
  }
 ],
 "metadata": {
  "kernelspec": {
   "display_name": "learn-env",
   "language": "python",
   "name": "learn-env"
  },
  "language_info": {
   "codemirror_mode": {
    "name": "ipython",
    "version": 3
   },
   "file_extension": ".py",
   "mimetype": "text/x-python",
   "name": "python",
   "nbconvert_exporter": "python",
   "pygments_lexer": "ipython3",
   "version": "3.6.9"
  }
 },
 "nbformat": 4,
 "nbformat_minor": 4
}
