{
 "cells": [
  {
   "cell_type": "markdown",
   "metadata": {},
   "source": [
    "# Offense vs Deffense in the NBA: the ultimate debate. "
   ]
  },
  {
   "cell_type": "markdown",
   "metadata": {},
   "source": [
    "### Intro"
   ]
  },
  {
   "cell_type": "markdown",
   "metadata": {},
   "source": [
    "### Business Understanding:\n",
    "Who are the stakeholders in this project? Who will be directly affected by the creation of this project?\n",
    "What business problem(s) will this Data Science project solve for the organization?\n",
    "What problems are inside the scope of this project?\n",
    "What problems are outside the scope of this project?\n",
    "What data sources are available to us?\n",
    "What is the expected timeline for this project? Are there hard deadlines (e.g. \"must be live before holiday season shopping\") or is this an ongoing project?\n",
    "Do stakeholders from different parts of the company or organization all have the exact same understanding about what this project is and isn't?\n",
    "\n",
    "### Data Understanding:\n",
    "What data is available to us? Where does it live? Do we have the data, or can we scrape/buy/source the data from somewhere else?\n",
    "Who controls the data sources, and what steps are needed to get access to the data?\n",
    "What is our target?\n",
    "What predictors are available to us?\n",
    "What data types are the predictors we'll be working with?\n",
    "What is the distribution of our data?\n",
    "How many observations does our dataset contain? Do we have a lot of data? Only a little?\n",
    "Do we have enough data to build a model? Will we need to use resampling methods?\n",
    "How do we know the data is correct? How is the data collected? Is there a chance the data could be wrong?\n",
    "\n",
    "\n",
    "### Data Preparation:\n",
    "Detecting and dealing with missing values\n",
    "Data type conversions (e.g. numeric data mistakenly encoded as strings)\n",
    "Checking for and removing multicollinearity (correlated predictors)\n",
    "Normalizing our numeric data\n",
    "Converting categorical data to numeric format through one-hot encoding\n",
    "### Modeling:\n",
    "Is this a classification task? A regression task? Something else?\n",
    "What models will we try?\n",
    "How do we deal with overfitting?\n",
    "Do we need to use regularization or not?\n",
    "What sort of validation strategy will we be using to check that our model works well on unseen data?\n",
    "What loss functions will we use?\n",
    "What threshold of performance do we consider as successful?\n"
   ]
  },
  {
   "cell_type": "markdown",
   "metadata": {},
   "source": [
    "Most players have their favorite spots on the court to shoot from – areas where they are most comfortable and confident in making shots.\n",
    "\n",
    "There’s Chris Paul’s pull-up jumper from the elbow, Tim Duncan’s bank shot from the left block and, of course, Stephen Curry’s 3-pointer from the corner.\n",
    "\n",
    "During the 2015 Playoffs, Curry was nearly automatic from the left corner, making 14 of his 18 attempts and 12 in a row from that small area on the court.\n",
    "\n",
    "These statistics are available to us to see in the form of shot charts. While box scores count the number of makes and misses throughout the game, shot charts take it a step further by tracking the location of each shot.\n",
    "\n",
    "With that information, fans and analysts can pinpoint where players and teams are most effective with their shots.\n",
    "\n",
    "In addition to showing the player’s shooting numbers from each zone, there are also color indicators to show how this player compares to the rest of the league from that area on the court.\n",
    "\n",
    "Green Zones: The player shoots better than the league average from that zone\n",
    "Yellow Zones: The player shoots comparable to the league average from that zone\n",
    "Red Zones: The player shoots worse than the league average from that zone\n",
    "There are a number of options on shot charts that can give us even more information. First, we can turn on shot indicators which will show a dot for each shot taken – green is for makes and red is for misses.\n",
    "\n",
    "You also have a choice in how you want to break down the zones of the court. There are two ways to view a shot chart – using basic shooting zones and advanced shooting zones.\n",
    "\n",
    "Here are the basic shooting zones:\n",
    "\n",
    "Corner 3: The small area on the left and right side of the court near the baseline. The 3-point line is a few inches closer to the basket in the corners.\n",
    "In The Paint: These are shots taken inside the key, the rectangular box close to the basket that measures 15 feet out to the free throw line and 16 feet wide.\n",
    "Restricted Area: The four-foot area directly surrounding the basket, marked by a semicircle in the paint.\n",
    "Mid-range: Any shot that comes outside the paint but inside the 3-point line.\n",
    "Above the Break 3: Any 3-pointer that is not taken from the corners.\n",
    "Backcourt: Any shot taken from beyond half court, mostly at the end of quarters to beat the clock.\n",
    "There is also an option to break the court down even further and use what are called advanced zones. These zones provide even more accuracy in charting shot locations."
   ]
  },
  {
   "cell_type": "code",
   "execution_count": null,
   "metadata": {},
   "outputs": [],
   "source": []
  }
 ],
 "metadata": {
  "kernelspec": {
   "display_name": "learn-env",
   "language": "python",
   "name": "learn-env"
  },
  "language_info": {
   "codemirror_mode": {
    "name": "ipython",
    "version": 3
   },
   "file_extension": ".py",
   "mimetype": "text/x-python",
   "name": "python",
   "nbconvert_exporter": "python",
   "pygments_lexer": "ipython3",
   "version": "3.6.9"
  }
 },
 "nbformat": 4,
 "nbformat_minor": 4
}
