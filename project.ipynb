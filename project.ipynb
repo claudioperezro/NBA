{
 "cells": [
  {
   "cell_type": "markdown",
   "metadata": {},
   "source": [
    "# Offense vs Defense in the NBA: the ultimate debate. \n",
    "\n",
    "### *Is being perfect at both really necesary to win it all?*"
   ]
  },
  {
   "cell_type": "markdown",
   "metadata": {},
   "source": [
    "![title](images/harden.jpeg)"
   ]
  },
  {
   "cell_type": "markdown",
   "metadata": {},
   "source": [
    "*Pictured Above*: James Harden, one of the most prolific players of his era is well on his way to become one of the best offensive players to ever play the game. His deffense however left many fans questioning whether he and his offense-heavy team could ever pull off the championship during his time in Houston. "
   ]
  },
  {
   "cell_type": "markdown",
   "metadata": {},
   "source": [
    "### Intro\n",
    "\n",
    "We’ve all heard it before: Offenses win games, defenses win championships. At least in popular sports like Baseball, playing defense looks completely different from playing offense. In American Football, there are literally two different sets of people playing 2 completely different sports. Each unit requires a completely different set of skills and players are not expected to play both disciplines. Compare this with sports like Football(Soccer)and Basketball, where players are expected to play both positions. In a matter of seconds, the game switches from offense to defense and back to offense, demanding that players remain ready to guard a player. In this context, an extremely talented shooter might be a liability in defense. This has been a struggle since the beginning of the game, because coaches know that any player that steps into the court will need to step up his defense.\n",
    "\n",
    "So really, how important is a team’s defense compared to its offense? Can a team compensate a bad defense with killer offense? This might seem like a trivial question, but its implications are real. Teams have limited resources (salary) as well as a limited number of roster spots, so GM's (General Managers) and Head Coaches are faced with decisions. \n"
   ]
  },
  {
   "cell_type": "markdown",
   "metadata": {},
   "source": [
    "### About the project\n",
    "There has been a recent revolution in major sports: that of incorporating data into not only the way they play the game, but the way they train, eat and sleep. This has led to \"rosters with more skilled, more well-rounded players that are better rested, and increased the profitability of the NBA.\"(randerson112358) NBA teams are investing huge amounts of resources into data-based decision making and that is only going to get bigger. This project will try to give some insight into one of the biggest dichotomies in modern sports, and will hopefully lead to useful insights about the game and the players that shape it. \n",
    "\n",
    "#### Who will be directly affected by the creation of this project?\n",
    "\n",
    "The implications of effectively solving a problem like this start at a player level, but it goes as far as organization level. To give an example, if projects like this one consistently find that offensive heavy teams can consistently win and get into the playoffs without having a good defense, organizations might be inclined to focus their attention into scouting and developing offensively skilled players. The inverse can also be true, where teams might realize that investing the time and effort into finding good defensive players is “easier” than offensively skilled players and projects like this show that a good offense is practically indistinguishable from a good defense when we see team success. \n",
    "\n",
    "Teams can start adjusting scouting location, training camps, rosters, lineups and even plays during the game if they realize that one of the two is heavily underrated in team success. The main point here is that organizations are trying build teams that deliver *results* and we want to learn more about what a prototypically good team looks like and how well we can distinguish one by looking at offense and defense. \n",
    "\n",
    "#### What business problem(s) will this Data Science project solve for the organization?\n",
    "\n",
    "A small to medium market team might be halfway through the season wondering if they have what it takes to have a winning Season. Winning Seasons provide teams the opportunity to climb the standings and make it to the playoffs, so it is important for a team to know whether the roster could be able to end up winning more games or not as it is. If a team decides that its current roster doesn’t have what it takes for the rest of the season, it could trade players and look for better opportunities so it is important to understand what makes a good team win and how a good team looks. \n",
    "\n",
    "#### What problems are inside the scope of this project?\n",
    "\n",
    "We’re not going to be able to solve a problem as big as this with one project. This project is meant to provide insight about how performance translates into results. Understanding what a good team looks like in both defense and offense will lead to very important problems that we’ll have to deal with. \n",
    "\n",
    "#### What problems are outside the scope of this project?\n",
    "\n",
    "Answering questions like, “should teams be making more midrange or paint shots?” Are out of the scope of the project. Even though we have information about the shooting locations and effectiveness from every area, we won’t delve into models with different shooting locations. We want to feed the different shooting shooting performances by zone to our models, and if we do get insights about them that would be really good, but that is not the point or the objective of this project. \n",
    "\n",
    "#### What is the expected timeline for this project? Are there hard deadlines (e.g. \"must be live before holiday season shopping\") or is this an ongoing project?\n",
    "\n",
    "Understanding what a good “playoff” team looks like with a model can be tested with the current NBA season. As of March 28, 2021 we don’t know how teams will end their season. The trade deadline is already past so teams don’t really have an opportunity to change their teams now, but it will be really interesting to test out the models on an ongoing season. \n",
    "\n",
    "\n"
   ]
  },
  {
   "cell_type": "markdown",
   "metadata": {},
   "source": [
    "![title](images/klay.jpeg)"
   ]
  },
  {
   "cell_type": "markdown",
   "metadata": {},
   "source": [
    "## In comes the data\n",
    "\n",
    "Let’s Try to answer this question with NBA stats. The NBA has a way of accessing every single STAT you could think of in their webpage . You can have a lot of fun without writing a single line of code just by looking at the data in their page: https://www.nba.com/stats/ For this project I will be using two different sets of data: One that measures teams’ offensive performance and one that measures teams’ defensive performances. Let´s take a look at what these 2 different data sets look like."
   ]
  },
  {
   "cell_type": "code",
   "execution_count": 289,
   "metadata": {},
   "outputs": [],
   "source": [
    "import pandas as pd\n",
    "import matplotlib.pyplot as plt\n",
    "import numpy as np\n",
    "%matplotlib inline  \n",
    "\n",
    "team_shooting = pd.read_csv('data/team.csv') #Offensive Dataset\n",
    "opponent_shooting = pd.read_csv('data/opposing.csv')#Defensive Dataset"
   ]
  },
  {
   "cell_type": "markdown",
   "metadata": {},
   "source": [
    "### Team Shooting by Zone (Offense)\n",
    "The first dataset tracks teams’ offensive performances in other words, how good teams shot the ball. Each row represents a different team and the columns contain information about ***that team’s*** shooting during ***1 NBA complete season***. The data is divided by shooting zones, so we have information on how well teams shot in the left corner 3, or in the midrange for example. The screenshot of our dataset shown below, shows how well the Atlanta Hawks and 6 other teams shot the ball in the 2020 season. In the NBA’s page we can then toggle the 2019 season and see the offensive performance for that season. I went ahead and concatenated every season spanning back to 1997 into a single data frame, so at the end of the day each row is a different historical team (2010 Rockets is a different team from the 2012 rockets) and how well that team shot the ball that season. You can think of each row as a report card for the complete season."
   ]
  },
  {
   "cell_type": "code",
   "execution_count": 290,
   "metadata": {},
   "outputs": [
    {
     "data": {
      "text/html": [
       "<div>\n",
       "<style scoped>\n",
       "    .dataframe tbody tr th:only-of-type {\n",
       "        vertical-align: middle;\n",
       "    }\n",
       "\n",
       "    .dataframe tbody tr th {\n",
       "        vertical-align: top;\n",
       "    }\n",
       "\n",
       "    .dataframe thead th {\n",
       "        text-align: right;\n",
       "    }\n",
       "</style>\n",
       "<table border=\"1\" class=\"dataframe\">\n",
       "  <thead>\n",
       "    <tr style=\"text-align: right;\">\n",
       "      <th></th>\n",
       "      <th>TEAM</th>\n",
       "      <th>RA FGM</th>\n",
       "      <th>RA FGA</th>\n",
       "      <th>RA FG%</th>\n",
       "      <th>PAINT FGM</th>\n",
       "      <th>PAINT FGA</th>\n",
       "      <th>PAINT FG%</th>\n",
       "      <th>MIDRANGE FGM</th>\n",
       "      <th>MIDRANGE FGA</th>\n",
       "      <th>MIDRANGE FG%</th>\n",
       "      <th>...</th>\n",
       "      <th>RIGHT CORNER FG%</th>\n",
       "      <th>CORNER 3 FGM</th>\n",
       "      <th>CORNER 3 FGA</th>\n",
       "      <th>CORNER 3 FG%</th>\n",
       "      <th>ATB 3 FGM</th>\n",
       "      <th>ATB FGA</th>\n",
       "      <th>ATB FG%</th>\n",
       "      <th>YEAR</th>\n",
       "      <th>SEASON WIN PCT</th>\n",
       "      <th>PLAYOFFS</th>\n",
       "    </tr>\n",
       "  </thead>\n",
       "  <tbody>\n",
       "    <tr>\n",
       "      <th>0</th>\n",
       "      <td>Atlanta Hawks</td>\n",
       "      <td>746</td>\n",
       "      <td>1206</td>\n",
       "      <td>61.9</td>\n",
       "      <td>313</td>\n",
       "      <td>756</td>\n",
       "      <td>41.4</td>\n",
       "      <td>174</td>\n",
       "      <td>399</td>\n",
       "      <td>43.6</td>\n",
       "      <td>...</td>\n",
       "      <td>33.3</td>\n",
       "      <td>130</td>\n",
       "      <td>332</td>\n",
       "      <td>39.2</td>\n",
       "      <td>436</td>\n",
       "      <td>1220</td>\n",
       "      <td>35.7</td>\n",
       "      <td>2021</td>\n",
       "      <td>0.511</td>\n",
       "      <td>1</td>\n",
       "    </tr>\n",
       "    <tr>\n",
       "      <th>1</th>\n",
       "      <td>Boston Celtics</td>\n",
       "      <td>710</td>\n",
       "      <td>1076</td>\n",
       "      <td>66.0</td>\n",
       "      <td>337</td>\n",
       "      <td>792</td>\n",
       "      <td>42.6</td>\n",
       "      <td>243</td>\n",
       "      <td>581</td>\n",
       "      <td>41.8</td>\n",
       "      <td>...</td>\n",
       "      <td>37.3</td>\n",
       "      <td>121</td>\n",
       "      <td>300</td>\n",
       "      <td>40.3</td>\n",
       "      <td>461</td>\n",
       "      <td>1225</td>\n",
       "      <td>37.6</td>\n",
       "      <td>2021</td>\n",
       "      <td>0.489</td>\n",
       "      <td>1</td>\n",
       "    </tr>\n",
       "    <tr>\n",
       "      <th>2</th>\n",
       "      <td>Brooklyn Nets</td>\n",
       "      <td>815</td>\n",
       "      <td>1220</td>\n",
       "      <td>66.8</td>\n",
       "      <td>317</td>\n",
       "      <td>686</td>\n",
       "      <td>46.2</td>\n",
       "      <td>200</td>\n",
       "      <td>438</td>\n",
       "      <td>45.7</td>\n",
       "      <td>...</td>\n",
       "      <td>37.3</td>\n",
       "      <td>153</td>\n",
       "      <td>385</td>\n",
       "      <td>39.7</td>\n",
       "      <td>508</td>\n",
       "      <td>1289</td>\n",
       "      <td>39.4</td>\n",
       "      <td>2021</td>\n",
       "      <td>0.674</td>\n",
       "      <td>1</td>\n",
       "    </tr>\n",
       "    <tr>\n",
       "      <th>3</th>\n",
       "      <td>Charlotte Hornets</td>\n",
       "      <td>765</td>\n",
       "      <td>1279</td>\n",
       "      <td>59.8</td>\n",
       "      <td>252</td>\n",
       "      <td>599</td>\n",
       "      <td>42.1</td>\n",
       "      <td>151</td>\n",
       "      <td>378</td>\n",
       "      <td>39.9</td>\n",
       "      <td>...</td>\n",
       "      <td>44.0</td>\n",
       "      <td>151</td>\n",
       "      <td>353</td>\n",
       "      <td>42.8</td>\n",
       "      <td>467</td>\n",
       "      <td>1242</td>\n",
       "      <td>37.6</td>\n",
       "      <td>2021</td>\n",
       "      <td>0.523</td>\n",
       "      <td>1</td>\n",
       "    </tr>\n",
       "    <tr>\n",
       "      <th>4</th>\n",
       "      <td>Chicago Bulls</td>\n",
       "      <td>795</td>\n",
       "      <td>1227</td>\n",
       "      <td>64.8</td>\n",
       "      <td>279</td>\n",
       "      <td>639</td>\n",
       "      <td>43.7</td>\n",
       "      <td>204</td>\n",
       "      <td>489</td>\n",
       "      <td>41.7</td>\n",
       "      <td>...</td>\n",
       "      <td>41.3</td>\n",
       "      <td>173</td>\n",
       "      <td>389</td>\n",
       "      <td>44.5</td>\n",
       "      <td>378</td>\n",
       "      <td>1070</td>\n",
       "      <td>35.3</td>\n",
       "      <td>2021</td>\n",
       "      <td>0.442</td>\n",
       "      <td>0</td>\n",
       "    </tr>\n",
       "  </tbody>\n",
       "</table>\n",
       "<p>5 rows × 25 columns</p>\n",
       "</div>"
      ],
      "text/plain": [
       "                TEAM  RA FGM  RA FGA  RA FG%  PAINT FGM  PAINT FGA  PAINT FG%  \\\n",
       "0      Atlanta Hawks     746    1206    61.9        313        756       41.4   \n",
       "1     Boston Celtics     710    1076    66.0        337        792       42.6   \n",
       "2      Brooklyn Nets     815    1220    66.8        317        686       46.2   \n",
       "3  Charlotte Hornets     765    1279    59.8        252        599       42.1   \n",
       "4      Chicago Bulls     795    1227    64.8        279        639       43.7   \n",
       "\n",
       "   MIDRANGE FGM  MIDRANGE FGA  MIDRANGE FG%  ...  RIGHT CORNER FG%  \\\n",
       "0           174           399          43.6  ...              33.3   \n",
       "1           243           581          41.8  ...              37.3   \n",
       "2           200           438          45.7  ...              37.3   \n",
       "3           151           378          39.9  ...              44.0   \n",
       "4           204           489          41.7  ...              41.3   \n",
       "\n",
       "   CORNER 3 FGM  CORNER 3 FGA  CORNER 3 FG%  ATB 3 FGM  ATB FGA  ATB FG%  \\\n",
       "0           130           332          39.2        436     1220     35.7   \n",
       "1           121           300          40.3        461     1225     37.6   \n",
       "2           153           385          39.7        508     1289     39.4   \n",
       "3           151           353          42.8        467     1242     37.6   \n",
       "4           173           389          44.5        378     1070     35.3   \n",
       "\n",
       "   YEAR  SEASON WIN PCT  PLAYOFFS  \n",
       "0  2021           0.511         1  \n",
       "1  2021           0.489         1  \n",
       "2  2021           0.674         1  \n",
       "3  2021           0.523         1  \n",
       "4  2021           0.442         0  \n",
       "\n",
       "[5 rows x 25 columns]"
      ]
     },
     "execution_count": 290,
     "metadata": {},
     "output_type": "execute_result"
    }
   ],
   "source": [
    "team_shooting.head()"
   ]
  },
  {
   "cell_type": "markdown",
   "metadata": {},
   "source": [
    "### NBA Glossary:\n",
    "- **FGA**: Field Goal Attempted. The number of shots attempted. \n",
    "- **FGM**: Field Goal Made. The number of succesful shots. \n",
    "- **FG%**: Field Goal Percentage. The percentage of shots made.(FGM divided by FGA multiplied by 100)\n",
    "- **Season Win PCT**: The number of games won divided by the number of games played. (A complete NBA Regular season has 82 games)\n",
    "- **Playoffs**: Elimination tournament annually held after the National Basketball Association (NBA)'s regular season to determine the league's champion. In our data set, that is represented by a 1 if the team played in the playoffs or 0 if it didn´t.\n",
    "\n",
    "Here are the basic shooting zones:\n",
    "\n",
    "- **Corner 3:** The small area on the left and right side of the court near the baseline. The 3-point line is a few inches closer to the basket in the corners.\n",
    "- **In The Paint:** These are shots taken inside the key, the rectangular box close to the basket that measures 15 feet out to the free throw line and 16 feet wide.\n",
    "- **Restricted Area:** The four-foot area directly surrounding the basket, marked by a semicircle in the paint.\n",
    "- **Mid-range:** Any shot that comes outside the paint but inside the 3-point line.\n",
    "- **Above the Break 3:** Any 3-pointer that is not taken from the corners."
   ]
  },
  {
   "cell_type": "markdown",
   "metadata": {},
   "source": [
    "![title](images/zones.png)"
   ]
  },
  {
   "cell_type": "markdown",
   "metadata": {},
   "source": [
    "### Opponent Shooting by Zone (Defense)\n",
    "Here comes the cool part about the project. Instead of using the classic defensive performance parameters like steals and blocks, I found the same exact shooting data as the one above, only instead of containing numbers about the team’s own shooting, it contains their opponents shooting numbers. In other words, if I go to a random row, say the 2018 Boston Celtics, the row contains information about how well opposing teams shot the ball that season when playing against that Celtics team. And it’s exactly the same format as our offensive team performance information, so we get to see shot zones too. With this format we can notice defensive trends that we can’t see with the traditional info. Maybe the 2005 lakers were extremely good at stopping teams near the basket (their opponents’ paint numbers are hideous) but were really bad at guarding the three pointer(their opponents shot the triple better against them than the league average)\n"
   ]
  },
  {
   "cell_type": "code",
   "execution_count": 291,
   "metadata": {
    "scrolled": true
   },
   "outputs": [
    {
     "data": {
      "text/html": [
       "<div>\n",
       "<style scoped>\n",
       "    .dataframe tbody tr th:only-of-type {\n",
       "        vertical-align: middle;\n",
       "    }\n",
       "\n",
       "    .dataframe tbody tr th {\n",
       "        vertical-align: top;\n",
       "    }\n",
       "\n",
       "    .dataframe thead th {\n",
       "        text-align: right;\n",
       "    }\n",
       "</style>\n",
       "<table border=\"1\" class=\"dataframe\">\n",
       "  <thead>\n",
       "    <tr style=\"text-align: right;\">\n",
       "      <th></th>\n",
       "      <th>TEAM</th>\n",
       "      <th>RA FGM</th>\n",
       "      <th>RA FGA</th>\n",
       "      <th>RA FG%</th>\n",
       "      <th>PAINT FGM</th>\n",
       "      <th>PAINT FGA</th>\n",
       "      <th>PAINT FG%</th>\n",
       "      <th>MIDRANGE FGM</th>\n",
       "      <th>MIDRANGE FGA</th>\n",
       "      <th>MIDRANGE FG%</th>\n",
       "      <th>...</th>\n",
       "      <th>RIGHT CORNER FG%</th>\n",
       "      <th>CORNER 3 FGM</th>\n",
       "      <th>CORNER 3 FGA</th>\n",
       "      <th>CORNER 3 FG%</th>\n",
       "      <th>ATB 3 FGM</th>\n",
       "      <th>ATB FGA</th>\n",
       "      <th>ATB FG%</th>\n",
       "      <th>YEAR</th>\n",
       "      <th>SEASON WIN PCT</th>\n",
       "      <th>PLAYOFFS</th>\n",
       "    </tr>\n",
       "  </thead>\n",
       "  <tbody>\n",
       "    <tr>\n",
       "      <th>0</th>\n",
       "      <td>Atlanta Hawks</td>\n",
       "      <td>801</td>\n",
       "      <td>1288</td>\n",
       "      <td>62.2</td>\n",
       "      <td>274</td>\n",
       "      <td>689</td>\n",
       "      <td>39.8</td>\n",
       "      <td>218</td>\n",
       "      <td>490</td>\n",
       "      <td>44.5</td>\n",
       "      <td>...</td>\n",
       "      <td>37.2</td>\n",
       "      <td>137</td>\n",
       "      <td>353</td>\n",
       "      <td>38.8</td>\n",
       "      <td>392</td>\n",
       "      <td>1157</td>\n",
       "      <td>33.9</td>\n",
       "      <td>2021</td>\n",
       "      <td>0.511</td>\n",
       "      <td>1</td>\n",
       "    </tr>\n",
       "    <tr>\n",
       "      <th>1</th>\n",
       "      <td>Boston Celtics</td>\n",
       "      <td>684</td>\n",
       "      <td>1049</td>\n",
       "      <td>65.2</td>\n",
       "      <td>338</td>\n",
       "      <td>768</td>\n",
       "      <td>44.0</td>\n",
       "      <td>210</td>\n",
       "      <td>498</td>\n",
       "      <td>42.2</td>\n",
       "      <td>...</td>\n",
       "      <td>38.7</td>\n",
       "      <td>143</td>\n",
       "      <td>365</td>\n",
       "      <td>39.2</td>\n",
       "      <td>432</td>\n",
       "      <td>1186</td>\n",
       "      <td>36.4</td>\n",
       "      <td>2021</td>\n",
       "      <td>0.489</td>\n",
       "      <td>1</td>\n",
       "    </tr>\n",
       "    <tr>\n",
       "      <th>2</th>\n",
       "      <td>Brooklyn Nets</td>\n",
       "      <td>765</td>\n",
       "      <td>1195</td>\n",
       "      <td>64.0</td>\n",
       "      <td>367</td>\n",
       "      <td>845</td>\n",
       "      <td>43.4</td>\n",
       "      <td>226</td>\n",
       "      <td>535</td>\n",
       "      <td>42.2</td>\n",
       "      <td>...</td>\n",
       "      <td>32.6</td>\n",
       "      <td>144</td>\n",
       "      <td>407</td>\n",
       "      <td>35.4</td>\n",
       "      <td>458</td>\n",
       "      <td>1226</td>\n",
       "      <td>37.4</td>\n",
       "      <td>2021</td>\n",
       "      <td>0.674</td>\n",
       "      <td>1</td>\n",
       "    </tr>\n",
       "    <tr>\n",
       "      <th>3</th>\n",
       "      <td>Charlotte Hornets</td>\n",
       "      <td>840</td>\n",
       "      <td>1280</td>\n",
       "      <td>65.6</td>\n",
       "      <td>209</td>\n",
       "      <td>481</td>\n",
       "      <td>43.5</td>\n",
       "      <td>126</td>\n",
       "      <td>336</td>\n",
       "      <td>37.5</td>\n",
       "      <td>...</td>\n",
       "      <td>38.2</td>\n",
       "      <td>221</td>\n",
       "      <td>549</td>\n",
       "      <td>40.3</td>\n",
       "      <td>433</td>\n",
       "      <td>1221</td>\n",
       "      <td>35.5</td>\n",
       "      <td>2021</td>\n",
       "      <td>0.523</td>\n",
       "      <td>1</td>\n",
       "    </tr>\n",
       "    <tr>\n",
       "      <th>4</th>\n",
       "      <td>Chicago Bulls</td>\n",
       "      <td>786</td>\n",
       "      <td>1251</td>\n",
       "      <td>62.8</td>\n",
       "      <td>299</td>\n",
       "      <td>652</td>\n",
       "      <td>45.9</td>\n",
       "      <td>238</td>\n",
       "      <td>531</td>\n",
       "      <td>44.8</td>\n",
       "      <td>...</td>\n",
       "      <td>42.6</td>\n",
       "      <td>125</td>\n",
       "      <td>296</td>\n",
       "      <td>42.2</td>\n",
       "      <td>361</td>\n",
       "      <td>1100</td>\n",
       "      <td>32.8</td>\n",
       "      <td>2021</td>\n",
       "      <td>0.442</td>\n",
       "      <td>0</td>\n",
       "    </tr>\n",
       "  </tbody>\n",
       "</table>\n",
       "<p>5 rows × 25 columns</p>\n",
       "</div>"
      ],
      "text/plain": [
       "                TEAM  RA FGM  RA FGA  RA FG%  PAINT FGM  PAINT FGA  PAINT FG%  \\\n",
       "0      Atlanta Hawks     801    1288    62.2        274        689       39.8   \n",
       "1     Boston Celtics     684    1049    65.2        338        768       44.0   \n",
       "2      Brooklyn Nets     765    1195    64.0        367        845       43.4   \n",
       "3  Charlotte Hornets     840    1280    65.6        209        481       43.5   \n",
       "4      Chicago Bulls     786    1251    62.8        299        652       45.9   \n",
       "\n",
       "   MIDRANGE FGM  MIDRANGE FGA  MIDRANGE FG%  ...  RIGHT CORNER FG%  \\\n",
       "0           218           490          44.5  ...              37.2   \n",
       "1           210           498          42.2  ...              38.7   \n",
       "2           226           535          42.2  ...              32.6   \n",
       "3           126           336          37.5  ...              38.2   \n",
       "4           238           531          44.8  ...              42.6   \n",
       "\n",
       "   CORNER 3 FGM  CORNER 3 FGA  CORNER 3 FG%  ATB 3 FGM  ATB FGA  ATB FG%  \\\n",
       "0           137           353          38.8        392     1157     33.9   \n",
       "1           143           365          39.2        432     1186     36.4   \n",
       "2           144           407          35.4        458     1226     37.4   \n",
       "3           221           549          40.3        433     1221     35.5   \n",
       "4           125           296          42.2        361     1100     32.8   \n",
       "\n",
       "   YEAR  SEASON WIN PCT  PLAYOFFS  \n",
       "0  2021           0.511         1  \n",
       "1  2021           0.489         1  \n",
       "2  2021           0.674         1  \n",
       "3  2021           0.523         1  \n",
       "4  2021           0.442         0  \n",
       "\n",
       "[5 rows x 25 columns]"
      ]
     },
     "execution_count": 291,
     "metadata": {},
     "output_type": "execute_result"
    }
   ],
   "source": [
    "opponent_shooting.head()"
   ]
  },
  {
   "cell_type": "markdown",
   "metadata": {},
   "source": [
    "### The idea\n",
    "\n",
    "I will build two different classification models, one will only get offensive performance data and the other will only get defensive performance data. The target parameter, or the thing they’re trying to predict is whether a team is a winning team or not. A winning team is one that won more games than it lost in the season (Win pct > 0.5).\n",
    "\n",
    "So just to recap, the idea is to feed teams’ shooting performance information as well as their winning record for the season (did they win a lot of games?) to the first model. Once it’s trained, feed it a random, mysterious team. The model will then try to answer the question: did this unknown team win a lot of games that season based on how they shot the ball?\n",
    "\n",
    "Then, take all of the opponent shooting information and feed it to another model. The “defensive” model will have to classify whether the team had a winning or losing season based on the how well their opponents shot the ball when playing against them throughout that season. So this second model will have to classify whether this team won many games or not based only on how teams shot against them. The model won’t have any information about that random team’s shooting performance.\n",
    "\n",
    "Then I will test both models to see how well they do with data they’ve never seen before. I will give both models information about a mystery season for a mystery team and they will have to tell me whether they think it was a winning season for the team or not. The models’ accuracy will tell us about the implications of good offense or defense.\n"
   ]
  },
  {
   "cell_type": "markdown",
   "metadata": {},
   "source": [
    "## Data Exploration:"
   ]
  },
  {
   "cell_type": "markdown",
   "metadata": {},
   "source": [
    "Let’s get started. Looking at the info() function, we can see that both the team and opposing shooting data frames have different datatypes, but other than that we can see already that there are no missing values in the dataframes: "
   ]
  },
  {
   "cell_type": "code",
   "execution_count": 292,
   "metadata": {},
   "outputs": [
    {
     "name": "stdout",
     "output_type": "stream",
     "text": [
      "<class 'pandas.core.frame.DataFrame'>\n",
      "RangeIndex: 742 entries, 0 to 741\n",
      "Data columns (total 25 columns):\n",
      "TEAM                742 non-null object\n",
      "RA FGM              742 non-null int64\n",
      "RA FGA              742 non-null int64\n",
      "RA FG%              742 non-null float64\n",
      "PAINT FGM           742 non-null int64\n",
      "PAINT FGA           742 non-null int64\n",
      "PAINT FG%           742 non-null float64\n",
      "MIDRANGE FGM        742 non-null int64\n",
      "MIDRANGE FGA        742 non-null int64\n",
      "MIDRANGE FG%        742 non-null float64\n",
      "LEFT CORNER FGM     742 non-null int64\n",
      "LEFT CORNER FGA     742 non-null int64\n",
      "LEFT CORNER FG%     742 non-null float64\n",
      "RIGHT CORNER FGM    742 non-null int64\n",
      "RIGHT CORNER FGA    742 non-null int64\n",
      "RIGHT CORNER FG%    742 non-null float64\n",
      "CORNER 3 FGM        742 non-null int64\n",
      "CORNER 3 FGA        742 non-null int64\n",
      "CORNER 3 FG%        742 non-null float64\n",
      "ATB 3 FGM           742 non-null int64\n",
      "ATB FGA             742 non-null int64\n",
      "ATB FG%             742 non-null float64\n",
      "YEAR                742 non-null int64\n",
      "SEASON WIN PCT      742 non-null float64\n",
      "PLAYOFFS            742 non-null int64\n",
      "dtypes: float64(8), int64(16), object(1)\n",
      "memory usage: 145.0+ KB\n"
     ]
    }
   ],
   "source": [
    "team_shooting.info()"
   ]
  },
  {
   "cell_type": "code",
   "execution_count": 293,
   "metadata": {},
   "outputs": [
    {
     "name": "stdout",
     "output_type": "stream",
     "text": [
      "<class 'pandas.core.frame.DataFrame'>\n",
      "RangeIndex: 742 entries, 0 to 741\n",
      "Data columns (total 25 columns):\n",
      "TEAM                742 non-null object\n",
      "RA FGM              742 non-null int64\n",
      "RA FGA              742 non-null int64\n",
      "RA FG%              742 non-null float64\n",
      "PAINT FGM           742 non-null int64\n",
      "PAINT FGA           742 non-null int64\n",
      "PAINT FG%           742 non-null float64\n",
      "MIDRANGE FGM        742 non-null int64\n",
      "MIDRANGE FGA        742 non-null int64\n",
      "MIDRANGE FG%        742 non-null float64\n",
      "LEFT CORNER FGM     742 non-null int64\n",
      "LEFT CORNER FGA     742 non-null int64\n",
      "LEFT CORNER FG%     742 non-null float64\n",
      "RIGHT CORNER FGM    742 non-null int64\n",
      "RIGHT CORNER FGA    742 non-null int64\n",
      "RIGHT CORNER FG%    742 non-null float64\n",
      "CORNER 3 FGM        742 non-null int64\n",
      "CORNER 3 FGA        742 non-null int64\n",
      "CORNER 3 FG%        742 non-null float64\n",
      "ATB 3 FGM           742 non-null int64\n",
      "ATB FGA             742 non-null int64\n",
      "ATB FG%             742 non-null float64\n",
      "YEAR                742 non-null int64\n",
      "SEASON WIN PCT      742 non-null float64\n",
      "PLAYOFFS            742 non-null int64\n",
      "dtypes: float64(8), int64(16), object(1)\n",
      "memory usage: 145.0+ KB\n"
     ]
    }
   ],
   "source": [
    "opponent_shooting.info()"
   ]
  },
  {
   "cell_type": "markdown",
   "metadata": {},
   "source": [
    "### Classify Winners and Losers\n",
    "\n",
    "The `SEASON WIN PCT ` variable contains the number of wins divided by total games of any one team’s season. We need to convert this to Winner or Loser categories by using 0.5 as the threshold. "
   ]
  },
  {
   "cell_type": "code",
   "execution_count": 294,
   "metadata": {},
   "outputs": [],
   "source": [
    "team_shooting['Winning Season'] = team_shooting['SEASON WIN PCT'].map(lambda x: 0 if x < 0.5 else 1)\n",
    "opponent_shooting['Winning Season'] = opponent_shooting['SEASON WIN PCT'].map(lambda x: 0 if x < 0.5 else 1)"
   ]
  },
  {
   "cell_type": "code",
   "execution_count": 295,
   "metadata": {
    "scrolled": true
   },
   "outputs": [
    {
     "data": {
      "text/html": [
       "<div>\n",
       "<style scoped>\n",
       "    .dataframe tbody tr th:only-of-type {\n",
       "        vertical-align: middle;\n",
       "    }\n",
       "\n",
       "    .dataframe tbody tr th {\n",
       "        vertical-align: top;\n",
       "    }\n",
       "\n",
       "    .dataframe thead th {\n",
       "        text-align: right;\n",
       "    }\n",
       "</style>\n",
       "<table border=\"1\" class=\"dataframe\">\n",
       "  <thead>\n",
       "    <tr style=\"text-align: right;\">\n",
       "      <th></th>\n",
       "      <th>TEAM</th>\n",
       "      <th>RA FGM</th>\n",
       "      <th>RA FGA</th>\n",
       "      <th>RA FG%</th>\n",
       "      <th>PAINT FGM</th>\n",
       "      <th>PAINT FGA</th>\n",
       "      <th>PAINT FG%</th>\n",
       "      <th>MIDRANGE FGM</th>\n",
       "      <th>MIDRANGE FGA</th>\n",
       "      <th>MIDRANGE FG%</th>\n",
       "      <th>...</th>\n",
       "      <th>CORNER 3 FGM</th>\n",
       "      <th>CORNER 3 FGA</th>\n",
       "      <th>CORNER 3 FG%</th>\n",
       "      <th>ATB 3 FGM</th>\n",
       "      <th>ATB FGA</th>\n",
       "      <th>ATB FG%</th>\n",
       "      <th>YEAR</th>\n",
       "      <th>SEASON WIN PCT</th>\n",
       "      <th>PLAYOFFS</th>\n",
       "      <th>Winning Season</th>\n",
       "    </tr>\n",
       "  </thead>\n",
       "  <tbody>\n",
       "    <tr>\n",
       "      <th>0</th>\n",
       "      <td>Atlanta Hawks</td>\n",
       "      <td>746</td>\n",
       "      <td>1206</td>\n",
       "      <td>61.9</td>\n",
       "      <td>313</td>\n",
       "      <td>756</td>\n",
       "      <td>41.4</td>\n",
       "      <td>174</td>\n",
       "      <td>399</td>\n",
       "      <td>43.6</td>\n",
       "      <td>...</td>\n",
       "      <td>130</td>\n",
       "      <td>332</td>\n",
       "      <td>39.2</td>\n",
       "      <td>436</td>\n",
       "      <td>1220</td>\n",
       "      <td>35.7</td>\n",
       "      <td>2021</td>\n",
       "      <td>0.511</td>\n",
       "      <td>1</td>\n",
       "      <td>1</td>\n",
       "    </tr>\n",
       "    <tr>\n",
       "      <th>1</th>\n",
       "      <td>Boston Celtics</td>\n",
       "      <td>710</td>\n",
       "      <td>1076</td>\n",
       "      <td>66.0</td>\n",
       "      <td>337</td>\n",
       "      <td>792</td>\n",
       "      <td>42.6</td>\n",
       "      <td>243</td>\n",
       "      <td>581</td>\n",
       "      <td>41.8</td>\n",
       "      <td>...</td>\n",
       "      <td>121</td>\n",
       "      <td>300</td>\n",
       "      <td>40.3</td>\n",
       "      <td>461</td>\n",
       "      <td>1225</td>\n",
       "      <td>37.6</td>\n",
       "      <td>2021</td>\n",
       "      <td>0.489</td>\n",
       "      <td>1</td>\n",
       "      <td>0</td>\n",
       "    </tr>\n",
       "    <tr>\n",
       "      <th>2</th>\n",
       "      <td>Brooklyn Nets</td>\n",
       "      <td>815</td>\n",
       "      <td>1220</td>\n",
       "      <td>66.8</td>\n",
       "      <td>317</td>\n",
       "      <td>686</td>\n",
       "      <td>46.2</td>\n",
       "      <td>200</td>\n",
       "      <td>438</td>\n",
       "      <td>45.7</td>\n",
       "      <td>...</td>\n",
       "      <td>153</td>\n",
       "      <td>385</td>\n",
       "      <td>39.7</td>\n",
       "      <td>508</td>\n",
       "      <td>1289</td>\n",
       "      <td>39.4</td>\n",
       "      <td>2021</td>\n",
       "      <td>0.674</td>\n",
       "      <td>1</td>\n",
       "      <td>1</td>\n",
       "    </tr>\n",
       "    <tr>\n",
       "      <th>3</th>\n",
       "      <td>Charlotte Hornets</td>\n",
       "      <td>765</td>\n",
       "      <td>1279</td>\n",
       "      <td>59.8</td>\n",
       "      <td>252</td>\n",
       "      <td>599</td>\n",
       "      <td>42.1</td>\n",
       "      <td>151</td>\n",
       "      <td>378</td>\n",
       "      <td>39.9</td>\n",
       "      <td>...</td>\n",
       "      <td>151</td>\n",
       "      <td>353</td>\n",
       "      <td>42.8</td>\n",
       "      <td>467</td>\n",
       "      <td>1242</td>\n",
       "      <td>37.6</td>\n",
       "      <td>2021</td>\n",
       "      <td>0.523</td>\n",
       "      <td>1</td>\n",
       "      <td>1</td>\n",
       "    </tr>\n",
       "    <tr>\n",
       "      <th>4</th>\n",
       "      <td>Chicago Bulls</td>\n",
       "      <td>795</td>\n",
       "      <td>1227</td>\n",
       "      <td>64.8</td>\n",
       "      <td>279</td>\n",
       "      <td>639</td>\n",
       "      <td>43.7</td>\n",
       "      <td>204</td>\n",
       "      <td>489</td>\n",
       "      <td>41.7</td>\n",
       "      <td>...</td>\n",
       "      <td>173</td>\n",
       "      <td>389</td>\n",
       "      <td>44.5</td>\n",
       "      <td>378</td>\n",
       "      <td>1070</td>\n",
       "      <td>35.3</td>\n",
       "      <td>2021</td>\n",
       "      <td>0.442</td>\n",
       "      <td>0</td>\n",
       "      <td>0</td>\n",
       "    </tr>\n",
       "  </tbody>\n",
       "</table>\n",
       "<p>5 rows × 26 columns</p>\n",
       "</div>"
      ],
      "text/plain": [
       "                TEAM  RA FGM  RA FGA  RA FG%  PAINT FGM  PAINT FGA  PAINT FG%  \\\n",
       "0      Atlanta Hawks     746    1206    61.9        313        756       41.4   \n",
       "1     Boston Celtics     710    1076    66.0        337        792       42.6   \n",
       "2      Brooklyn Nets     815    1220    66.8        317        686       46.2   \n",
       "3  Charlotte Hornets     765    1279    59.8        252        599       42.1   \n",
       "4      Chicago Bulls     795    1227    64.8        279        639       43.7   \n",
       "\n",
       "   MIDRANGE FGM  MIDRANGE FGA  MIDRANGE FG%  ...  CORNER 3 FGM  CORNER 3 FGA  \\\n",
       "0           174           399          43.6  ...           130           332   \n",
       "1           243           581          41.8  ...           121           300   \n",
       "2           200           438          45.7  ...           153           385   \n",
       "3           151           378          39.9  ...           151           353   \n",
       "4           204           489          41.7  ...           173           389   \n",
       "\n",
       "   CORNER 3 FG%  ATB 3 FGM  ATB FGA  ATB FG%  YEAR  SEASON WIN PCT  PLAYOFFS  \\\n",
       "0          39.2        436     1220     35.7  2021           0.511         1   \n",
       "1          40.3        461     1225     37.6  2021           0.489         1   \n",
       "2          39.7        508     1289     39.4  2021           0.674         1   \n",
       "3          42.8        467     1242     37.6  2021           0.523         1   \n",
       "4          44.5        378     1070     35.3  2021           0.442         0   \n",
       "\n",
       "   Winning Season  \n",
       "0               1  \n",
       "1               0  \n",
       "2               1  \n",
       "3               1  \n",
       "4               0  \n",
       "\n",
       "[5 rows x 26 columns]"
      ]
     },
     "execution_count": 295,
     "metadata": {},
     "output_type": "execute_result"
    }
   ],
   "source": [
    "team_shooting.head()"
   ]
  },
  {
   "cell_type": "markdown",
   "metadata": {},
   "source": [
    "Let’s explore our data frames a lit bit before we start working on models."
   ]
  },
  {
   "cell_type": "markdown",
   "metadata": {},
   "source": [
    "# Restricted Area vs Season Wins"
   ]
  },
  {
   "cell_type": "markdown",
   "metadata": {},
   "source": [
    "Like the graphic and glossary explain, the Restricted area is the area just below the bucket. Every layup, Dunk or outback shot will count in this number. We’ll see how important this shot is later, but for now let’s use our dataframe to explore the importance of this shot.\n",
    "\n",
    "The following plot shows teams represented as dots, where their `x` axis location represents how well their opponent shot the ball in the Restricted Area and the `y` axis location represents the win percentage that season. "
   ]
  },
  {
   "cell_type": "code",
   "execution_count": 296,
   "metadata": {},
   "outputs": [
    {
     "data": {
      "text/plain": [
       "<matplotlib.axes._subplots.AxesSubplot at 0x7fa8ed88fa20>"
      ]
     },
     "execution_count": 296,
     "metadata": {},
     "output_type": "execute_result"
    },
    {
     "data": {
      "image/png": "[encoded data removed]",
      "text/plain": [
       "<Figure size 432x288 with 1 Axes>"
      ]
     },
     "metadata": {
      "needs_background": "light"
     },
     "output_type": "display_data"
    }
   ],
   "source": [
    "opponent_shooting.plot.scatter(x='RA FG%', y='SEASON WIN PCT')"
   ]
  },
  {
   "cell_type": "markdown",
   "metadata": {},
   "source": [
    "We can see that the better they allow their opponents to shoot the ball in the RA (dots that tend to the right), the worse their winning record is (dots that are lower).\n",
    "\n",
    "We can see that the inverse is true when we plot each team's own shooting performance against their winning percentage, where the higher the shot percentage, the higher their win percentage. "
   ]
  },
  {
   "cell_type": "code",
   "execution_count": 297,
   "metadata": {},
   "outputs": [
    {
     "data": {
      "text/plain": [
       "<matplotlib.axes._subplots.AxesSubplot at 0x7fa8ed885898>"
      ]
     },
     "execution_count": 297,
     "metadata": {},
     "output_type": "execute_result"
    },
    {
     "data": {
      "image/png": "[encoded data removed]",
      "text/plain": [
       "<Figure size 432x288 with 1 Axes>"
      ]
     },
     "metadata": {
      "needs_background": "light"
     },
     "output_type": "display_data"
    }
   ],
   "source": [
    "team_shooting.plot.scatter(x='RA FG%', y='SEASON WIN PCT')"
   ]
  },
  {
   "cell_type": "markdown",
   "metadata": {},
   "source": [
    "# Shooting Throughout the years: the midrange is dead\n",
    "\n",
    "Next, we’ll take a look at shot distributions for teams across the years. That is, we’ll compare and contrast what type of shots (location) teams have shot the most and try to understand the tendency. It has been widely known that players like Stephen curry (one could even argue that he’s the only  one to blame or thank) have revolutionized the game. Players shoot the ball from the 3pt line like never before. Let’s see if we can represent this with our data. \n"
   ]
  },
  {
   "cell_type": "code",
   "execution_count": 298,
   "metadata": {},
   "outputs": [],
   "source": [
    "def attempts_pct(df,year):\n",
    "    \n",
    "    '''This function takes in a datagrame and a year and returns the total number of times teams shot from\n",
    "    that location in the selected year.'''\n",
    "    \n",
    "    specific = df.loc[df['YEAR'] == year]\n",
    "    specific_attempts = specific[['RA FGA','PAINT FGA','MIDRANGE FGA', 'CORNER 3 FGA', 'ATB FGA']]\n",
    "    specific_totals = specific_attempts.sum(axis = 0, skipna = True)\n",
    "    return specific_totals\n",
    "\n",
    "def plotbar(df,year1,year2):\n",
    "    \n",
    "    '''Plots a bar graph that compares the shooting locations for the specific locations. Takes in the opposing or team shooting\n",
    "    dataframe as well as the years to compare and plots the bar graphs.'''\n",
    "    \n",
    "    specific_totals1 = attempts_pct(df,year1)\n",
    "    specific_totals2 = attempts_pct(df,year2)\n",
    "    \n",
    "    specific_totals1 = specific_totals1.map(lambda x: (x/specific_totals1.sum()*100))\n",
    "    specific_totals2 = specific_totals2.map(lambda x: (x/specific_totals2.sum()*100))\n",
    "   \n",
    "    compare_df = pd.DataFrame({'{}'.format(year1): specific_totals1,'{}'.format(year2): specific_totals2})\n",
    "    compare_df.plot.bar(title = 'Distribution of Attempted Shots by Zone in the {} and {} NBA Seasons'.format(year1-1,year2)\n",
    "                       ,figsize=(12,5))\n",
    "    plt.xlabel('ZONE')\n",
    "    plt.ylabel('Percentage of Shots Attempted')\n",
    "    plt.show()\n",
    "    print(compare_df)"
   ]
  },
  {
   "cell_type": "markdown",
   "metadata": {},
   "source": [
    "The following plot compares the shot distribution for teams in 1997 and in 2018. We can see that the 1997 NBA (blue graphs) shot almost 40% of their shots from the midrange! That’s more than layups and dunk attempts. But the incredible part is how little teams shoot the midrange today. The orange and blue bars in the middle show this contrast. \n",
    "\n",
    "Where did these shots go? **Beyond the 3pt line**. As shown below, teams are shooting the ball ***%342** more 3pt shots than 20 years ago. Players have started to notice that even if the midrange has a better probability of going in than the 3pt shot, the risk-reward of shooting the ball just a few steps behind is much more convinient. \n"
   ]
  },
  {
   "cell_type": "code",
   "execution_count": 299,
   "metadata": {
    "scrolled": false
   },
   "outputs": [
    {
     "data": {
      "image/png": "[encoded data removed]",
      "text/plain": [
       "<Figure size 864x360 with 1 Axes>"
      ]
     },
     "metadata": {
      "needs_background": "light"
     },
     "output_type": "display_data"
    },
    {
     "name": "stdout",
     "output_type": "stream",
     "text": [
      "                   1997       2018\n",
      "RA FGA        37.464832  31.666848\n",
      "PAINT FGA     11.877993  15.741324\n",
      "MIDRANGE FGA  39.969848  19.100022\n",
      "CORNER 3 FGA   3.056024   7.391220\n",
      "ATB FGA        7.631302  26.100586\n"
     ]
    }
   ],
   "source": [
    "plotbar(team_shooting,1997,2018)"
   ]
  },
  {
   "cell_type": "markdown",
   "metadata": {},
   "source": [
    "This is not simply an anomaly: the 3pt craze is here to stay. The following plot shows that the 3pt numbers seen for the 2018 season have pretty much stayed the same. "
   ]
  },
  {
   "cell_type": "code",
   "execution_count": 300,
   "metadata": {},
   "outputs": [
    {
     "data": {
      "image/png": "[encoded data removed]",
      "text/plain": [
       "<Figure size 864x360 with 1 Axes>"
      ]
     },
     "metadata": {
      "needs_background": "light"
     },
     "output_type": "display_data"
    },
    {
     "name": "stdout",
     "output_type": "stream",
     "text": [
      "                   2016       2017\n",
      "RA FGA        32.510014  32.129590\n",
      "PAINT FGA     14.569083  14.240080\n",
      "MIDRANGE FGA  24.647993  22.238934\n",
      "CORNER 3 FGA   7.338530   7.482691\n",
      "ATB FGA       20.934380  23.908705\n"
     ]
    }
   ],
   "source": [
    "plotbar(team_shooting,2016,2017)"
   ]
  },
  {
   "cell_type": "code",
   "execution_count": 301,
   "metadata": {},
   "outputs": [],
   "source": [
    "def made(df,year):\n",
    "    specific = df.loc[df['YEAR'] == year]\n",
    "    specific_attempts = specific[['RA FGM','PAINT FGM','MIDRANGE FGM', 'CORNER 3 FGM', 'ATB 3 FGM']]\n",
    "    specific_totals = specific_attempts.sum(axis = 0, skipna = True)\n",
    "    return specific_totals\n",
    "def plotbar2(df,year1,year2):\n",
    "    attempts_totals1 = attempts_pct(df,year1)\n",
    "    attempts_totals2 = attempts_pct(df,year2)\n",
    "    \n",
    "    made_totals1 = made(df,year1)\n",
    "    made_totals2 = made(df,year2)\n",
    "    \n",
    "    pct1 = made_totals1.reset_index().drop('index',axis = 1).divide(attempts_totals1.reset_index().drop('index',axis = 1))\n",
    "    pct2 = made_totals2.reset_index().drop('index',axis = 1).divide(attempts_totals2.reset_index().drop('index',axis = 1))\n",
    "    \n",
    "    index = ['RA','PAINT','MIDRANGE', 'CORNER 3', 'ATB 3']\n",
    "    \n",
    "    \n",
    "   \n",
    "    compare_df = pd.DataFrame({'{}'.format(year1): pct1[0],'{}'.format(year2): pct2[0],'ZONE': index})\n",
    "    #compare_df.set_index(index)\n",
    "    compare_df = compare_df.set_index('ZONE')\n",
    "    print(compare_df)\n",
    "    compare_df.plot.bar(title = 'FG% by Zone in the {} and {} NBA Seasons'.format(year1-1,year2)\n",
    "                       ,figsize=(12,5))\n",
    "    plt.xlabel('ZONE')\n",
    "    plt.ylabel('FG%')\n",
    "    #plt.show()"
   ]
  },
  {
   "cell_type": "markdown",
   "metadata": {},
   "source": [
    "And interestingly enough, when we analyze how *well* teams have shot the ball throughout the years, we see that the % of shots made have stayed pretty consistently. That means, teams are not shooting the ball considerably better or worse, which further supports the argument that the 3pt shot is a much better bet than a long midrange shot. "
   ]
  },
  {
   "cell_type": "markdown",
   "metadata": {},
   "source": [
    "### FG% Throughout the Years"
   ]
  },
  {
   "cell_type": "code",
   "execution_count": 302,
   "metadata": {},
   "outputs": [
    {
     "name": "stdout",
     "output_type": "stream",
     "text": [
      "              1997      2017\n",
      "ZONE                        \n",
      "RA        0.547544  0.610991\n",
      "PAINT     0.433724  0.417564\n",
      "MIDRANGE  0.402518  0.402512\n",
      "CORNER 3  0.398298  0.387212\n",
      "ATB 3     0.334933  0.351474\n"
     ]
    },
    {
     "data": {
      "image/png": "[encoded data removed]",
      "text/plain": [
       "<Figure size 864x360 with 1 Axes>"
      ]
     },
     "metadata": {
      "needs_background": "light"
     },
     "output_type": "display_data"
    }
   ],
   "source": [
    "plotbar2(team_shooting,1997,2017)"
   ]
  },
  {
   "cell_type": "markdown",
   "metadata": {},
   "source": [
    "You can see in the plot above that the the corner and above the break 3pt shot % have stayed in the same range. "
   ]
  },
  {
   "cell_type": "markdown",
   "metadata": {},
   "source": [
    "# Rockets' Shooting"
   ]
  },
  {
   "cell_type": "markdown",
   "metadata": {},
   "source": [
    "Because I love the Houston Rockets, I was naturally curious to see how their shot distributiion has changed. Corner 3's are one of my favorite made shots because most of the times players that make these shots are wide open [Completely my perception from watching basketball on tv. This statement is not supported by evidence whatsover]. This means that ball movement and smart playmaking led to open 3's in the corner. Let's see how the rockets have shot from the corner throughout the years:"
   ]
  },
  {
   "cell_type": "code",
   "execution_count": 303,
   "metadata": {
    "scrolled": false
   },
   "outputs": [
    {
     "data": {
      "image/png": "[encoded data removed]",
      "text/plain": [
       "<Figure size 720x432 with 1 Axes>"
      ]
     },
     "metadata": {
      "needs_background": "light"
     },
     "output_type": "display_data"
    }
   ],
   "source": [
    "import numpy as np\n",
    "rockets_shooting = team_shooting.loc[team_shooting['TEAM'] == 'Houston Rockets']\n",
    "rockets_shooting = rockets_shooting.iloc[::-1]\n",
    "\n",
    "z = np.polyfit(x=rockets_shooting['YEAR'], y=rockets_shooting['CORNER 3 FGA'], deg=1)\n",
    "p = np.poly1d(z)\n",
    "rockets_shooting['trendline'] = p(rockets_shooting['YEAR'])\n",
    "\n",
    "ax = rockets_shooting.plot.scatter(x ='YEAR', y='CORNER 3 FGA', figsize=(10,6))\n",
    "rockets_shooting.set_index('YEAR', inplace=True)\n",
    "rockets_shooting.trendline.sort_index(ascending=False).plot(ax=ax)\n",
    "plt.title('Corner 3\\'s Attempted by the Houston Rockets Throughout the Years')\n",
    "plt.show()\n"
   ]
  },
  {
   "cell_type": "markdown",
   "metadata": {},
   "source": [
    "## Models\n",
    "Now let's get to the fun part: **Modeling**. \n",
    "\n",
    "We'll explore a couple of Machine Learning models that will work well with what we're trying to achieve. For this we'll have to split the training and testing data first. "
   ]
  },
  {
   "cell_type": "markdown",
   "metadata": {},
   "source": [
    "### Split training data\n",
    "\n",
    "First off, we have to acknowledge the fact that we have very few observations (<1k). This poses a challenge because our models may not have enough data to provide good enough models. We also have to consider that whatever number of observations will be further split into training and test data, so if we had 1000 observations and we wanted to split our data into 80:20 training to test ratio, we would really only have 800 observations to train our models. \n",
    "\n"
   ]
  },
  {
   "cell_type": "code",
   "execution_count": 304,
   "metadata": {
    "scrolled": false
   },
   "outputs": [
    {
     "name": "stdout",
     "output_type": "stream",
     "text": [
      "<class 'pandas.core.frame.DataFrame'>\n",
      "RangeIndex: 742 entries, 0 to 741\n",
      "Data columns (total 26 columns):\n",
      "TEAM                742 non-null object\n",
      "RA FGM              742 non-null int64\n",
      "RA FGA              742 non-null int64\n",
      "RA FG%              742 non-null float64\n",
      "PAINT FGM           742 non-null int64\n",
      "PAINT FGA           742 non-null int64\n",
      "PAINT FG%           742 non-null float64\n",
      "MIDRANGE FGM        742 non-null int64\n",
      "MIDRANGE FGA        742 non-null int64\n",
      "MIDRANGE FG%        742 non-null float64\n",
      "LEFT CORNER FGM     742 non-null int64\n",
      "LEFT CORNER FGA     742 non-null int64\n",
      "LEFT CORNER FG%     742 non-null float64\n",
      "RIGHT CORNER FGM    742 non-null int64\n",
      "RIGHT CORNER FGA    742 non-null int64\n",
      "RIGHT CORNER FG%    742 non-null float64\n",
      "CORNER 3 FGM        742 non-null int64\n",
      "CORNER 3 FGA        742 non-null int64\n",
      "CORNER 3 FG%        742 non-null float64\n",
      "ATB 3 FGM           742 non-null int64\n",
      "ATB FGA             742 non-null int64\n",
      "ATB FG%             742 non-null float64\n",
      "YEAR                742 non-null int64\n",
      "SEASON WIN PCT      742 non-null float64\n",
      "PLAYOFFS            742 non-null int64\n",
      "Winning Season      742 non-null int64\n",
      "dtypes: float64(8), int64(17), object(1)\n",
      "memory usage: 150.8+ KB\n"
     ]
    }
   ],
   "source": [
    "team_shooting.info()"
   ]
  },
  {
   "cell_type": "markdown",
   "metadata": {},
   "source": [
    "For this project I will split my train and test data in a planned way. Instead of using a random or stratified split, I will train my models in every season from 1997 to 2017 and leave the \n",
    "- The 2020-2021 season is still ongoing, we don't have target variables yet. We can't use this season to train or test.\n",
    "- That leaves 712 observations available for training and testing. \n",
    "- Three test seasons equal 90 observations. This represents 12.6% of the total available data. \n",
    "- That leaves 622 observations for training. \n",
    "\n",
    "This is *Very* little data to work with, but let's see what we can do with the data. \n"
   ]
  },
  {
   "cell_type": "markdown",
   "metadata": {},
   "source": [
    "As usual, let's create a pipeline for our data preprocessing so that we can iterate through many differente combinations of models and test many versions without having to worry much about test splits, scales or separating target values from parameters:"
   ]
  },
  {
   "cell_type": "code",
   "execution_count": 305,
   "metadata": {},
   "outputs": [],
   "source": [
    "from sklearn import preprocessing\n",
    "\n",
    "scaler = preprocessing.StandardScaler()\n",
    "\n",
    "def split(df1):\n",
    "    '''Takes in a dataframe and the target value in string format as an argument and returns the same dataframe \n",
    "    but with the observations that will be used as test split removed. Those removed observations are also returned \n",
    "    in their own dataframe'''\n",
    "    x_train = df1.loc[df1['YEAR'] < 2018]\n",
    "    x_test = df1.loc[df1['YEAR'] >= 2018]\n",
    "    return x_train, x_test\n",
    "\n",
    "def scale(df2):\n",
    "    '''Takes in dataframe and applies a scikit transformer to the dataframe in order to scale the parameters \n",
    "    with Scikit\\'s StandardScaler. Returns the transformed dataframe '''\n",
    "    df2[df2.columns] = scaler.fit_transform(df2[df2.columns])\n",
    "    return df2\n",
    "\n",
    "\n",
    "def preprocessing(df, target):\n",
    "    '''Takes in a dataframe and the desired target column as a string and returns 4 transformed dataframes ready to \n",
    "    be used in ML models'''\n",
    "    #Enter data, returns \n",
    "    df = df.copy() #Mutability\n",
    "    \n",
    "    x_train, x_test = split(df)\n",
    "    \n",
    "    y_train = x_train[target]\n",
    "    y_test = x_test[target]\n",
    "    \n",
    "    x_train = x_train.drop(columns=['SEASON WIN PCT','PLAYOFFS','Winning Season','YEAR','TEAM'])\n",
    "    x_test = x_test.drop(columns=['SEASON WIN PCT','PLAYOFFS','Winning Season','YEAR','TEAM'])\n",
    "    \n",
    "    x_train = scale(x_train)\n",
    "    x_test = scale(x_test)\n",
    "    \n",
    "    \n",
    "    return x_train, x_test, y_train, y_test"
   ]
  },
  {
   "cell_type": "markdown",
   "metadata": {},
   "source": [
    "### Classifying playoff teams based on their shooting:"
   ]
  },
  {
   "cell_type": "markdown",
   "metadata": {},
   "source": [
    "Before we begin training models that classify winning or losing teams, let's try our model with classifying playoff teams from non play off teams. "
   ]
  },
  {
   "cell_type": "code",
   "execution_count": 306,
   "metadata": {},
   "outputs": [],
   "source": [
    "X_train, X_test, y_train, y_test = preprocessing(team_shooting,'PLAYOFFS')"
   ]
  },
  {
   "cell_type": "markdown",
   "metadata": {},
   "source": [
    "First, we´ll use a logistic regression model for our binary classification task. Logistic regression models handle data like ours pretty well and are interpretable, so we can derive meaningful conclussions with parameter weights similar to those in linear regression:"
   ]
  },
  {
   "cell_type": "code",
   "execution_count": 307,
   "metadata": {
    "scrolled": true
   },
   "outputs": [
    {
     "data": {
      "text/plain": [
       "LogisticRegression(C=1000000000000.0, class_weight=None, dual=False,\n",
       "                   fit_intercept=False, intercept_scaling=1, l1_ratio=None,\n",
       "                   max_iter=100, multi_class='warn', n_jobs=None, penalty='l2',\n",
       "                   random_state=None, solver='liblinear', tol=0.0001, verbose=0,\n",
       "                   warm_start=False)"
      ]
     },
     "execution_count": 307,
     "metadata": {},
     "output_type": "execute_result"
    }
   ],
   "source": [
    "from sklearn.linear_model import LogisticRegression\n",
    "\n",
    "logreg = LogisticRegression(fit_intercept=False, C=1e12, solver='liblinear')\n",
    "model_log = logreg.fit(X_train, y_train)\n",
    "model_log"
   ]
  },
  {
   "cell_type": "markdown",
   "metadata": {},
   "source": [
    "Let's test our model by trying to predict our training data and test data. "
   ]
  },
  {
   "cell_type": "code",
   "execution_count": 308,
   "metadata": {},
   "outputs": [],
   "source": [
    "y_hat_test = logreg.predict(X_test)\n",
    "y_hat_train = logreg.predict(X_train)"
   ]
  },
  {
   "cell_type": "code",
   "execution_count": 309,
   "metadata": {},
   "outputs": [
    {
     "name": "stdout",
     "output_type": "stream",
     "text": [
      "0    442\n",
      "1    180\n",
      "Name: PLAYOFFS, dtype: int64\n",
      "0    0.710611\n",
      "1    0.289389\n",
      "Name: PLAYOFFS, dtype: float64\n"
     ]
    }
   ],
   "source": [
    "residuals = np.abs(y_train - y_hat_train)\n",
    "print(pd.Series(residuals).value_counts())\n",
    "print(pd.Series(residuals).value_counts(normalize=True))"
   ]
  },
  {
   "cell_type": "markdown",
   "metadata": {},
   "source": [
    "Notice that we're using our training data to gauge the logistic regression's performance. Our model has an accuracy of 71%. That means that 71% of our predictions were correct. Let's look at other metrics though:"
   ]
  },
  {
   "cell_type": "code",
   "execution_count": 310,
   "metadata": {},
   "outputs": [
    {
     "name": "stdout",
     "output_type": "stream",
     "text": [
      "Precision for training: 0.7635135135135135\n",
      "Recall for training: 0.6726190476190477\n"
     ]
    }
   ],
   "source": [
    "from sklearn.metrics import precision_score, recall_score\n",
    "print('Precision for training: {}'.format(precision_score(y_train,y_hat_train)))\n",
    "print('Recall for training: {}'.format(recall_score(y_train,y_hat_train)))"
   ]
  },
  {
   "cell_type": "markdown",
   "metadata": {},
   "source": [
    "This means that from the teams we predicted would make it to the playoffs, 80.9% actually made it. It also means that from all of the teams that actually made it to the playoffs, we only classified 68.1% correctly as playoff teams."
   ]
  },
  {
   "cell_type": "markdown",
   "metadata": {},
   "source": [
    "### Classifying playoff teams based on their opponents' shooting:"
   ]
  },
  {
   "cell_type": "markdown",
   "metadata": {},
   "source": [
    "Now let's only feed shooting data from their opponents to the same type of model. Remember we're still trying to predict playoff performance, not whether the team had a winning season or not. "
   ]
  },
  {
   "cell_type": "code",
   "execution_count": 311,
   "metadata": {},
   "outputs": [
    {
     "name": "stdout",
     "output_type": "stream",
     "text": [
      "0    477\n",
      "1    145\n",
      "Name: PLAYOFFS, dtype: int64\n",
      "0    0.766881\n",
      "1    0.233119\n",
      "Name: PLAYOFFS, dtype: float64\n"
     ]
    }
   ],
   "source": [
    "X_train,X_test, y_train, y_test = preprocessing(opponent_shooting,'PLAYOFFS')\n",
    "\n",
    "logreg = LogisticRegression(fit_intercept=False, C=1e12, solver='liblinear')\n",
    "model_log = logreg.fit(X_train, y_train)\n",
    "model_log\n",
    "\n",
    "y_hat_test = logreg.predict(X_test)\n",
    "y_hat_train = logreg.predict(X_train)\n",
    "\n",
    "residuals = np.abs(y_train - y_hat_train)\n",
    "print(pd.Series(residuals).value_counts())\n",
    "print(pd.Series(residuals).value_counts(normalize=True))"
   ]
  },
  {
   "cell_type": "code",
   "execution_count": 312,
   "metadata": {},
   "outputs": [
    {
     "name": "stdout",
     "output_type": "stream",
     "text": [
      "Precision for training: 0.8070739549839229\n",
      "Recall for training: 0.7470238095238095\n"
     ]
    }
   ],
   "source": [
    "print('Precision for training: {}'.format(precision_score(y_train,y_hat_train)))\n",
    "print('Recall for training: {}'.format(recall_score(y_train,y_hat_train)))"
   ]
  },
  {
   "cell_type": "markdown",
   "metadata": {},
   "source": [
    "Right off the bat, we can see that our model based on shooting did better. But let's start thinking about how we'll interpret all of this results. Our goal is to find insights based on models that work well by opening up their insides and finding what is useful to classify. Let's see what's under the hood by checking each parameter's coefficient."
   ]
  },
  {
   "cell_type": "code",
   "execution_count": 313,
   "metadata": {},
   "outputs": [
    {
     "data": {
      "text/html": [
       "<div>\n",
       "<style scoped>\n",
       "    .dataframe tbody tr th:only-of-type {\n",
       "        vertical-align: middle;\n",
       "    }\n",
       "\n",
       "    .dataframe tbody tr th {\n",
       "        vertical-align: top;\n",
       "    }\n",
       "\n",
       "    .dataframe thead th {\n",
       "        text-align: right;\n",
       "    }\n",
       "</style>\n",
       "<table border=\"1\" class=\"dataframe\">\n",
       "  <thead>\n",
       "    <tr style=\"text-align: right;\">\n",
       "      <th></th>\n",
       "      <th>coef</th>\n",
       "    </tr>\n",
       "  </thead>\n",
       "  <tbody>\n",
       "    <tr>\n",
       "      <th>ATB FGA</th>\n",
       "      <td>47.997147</td>\n",
       "    </tr>\n",
       "    <tr>\n",
       "      <th>RA FGA</th>\n",
       "      <td>31.926353</td>\n",
       "    </tr>\n",
       "    <tr>\n",
       "      <th>LEFT CORNER FGA</th>\n",
       "      <td>4.708449</td>\n",
       "    </tr>\n",
       "    <tr>\n",
       "      <th>RIGHT CORNER FGM</th>\n",
       "      <td>2.862459</td>\n",
       "    </tr>\n",
       "    <tr>\n",
       "      <th>MIDRANGE FGA</th>\n",
       "      <td>2.717992</td>\n",
       "    </tr>\n",
       "    <tr>\n",
       "      <th>PAINT FGM</th>\n",
       "      <td>2.096351</td>\n",
       "    </tr>\n",
       "    <tr>\n",
       "      <th>CORNER 3 FG%</th>\n",
       "      <td>1.510361</td>\n",
       "    </tr>\n",
       "    <tr>\n",
       "      <th>RA FG%</th>\n",
       "      <td>1.492881</td>\n",
       "    </tr>\n",
       "    <tr>\n",
       "      <th>CORNER 3 FGA</th>\n",
       "      <td>1.420344</td>\n",
       "    </tr>\n",
       "    <tr>\n",
       "      <th>ATB FG%</th>\n",
       "      <td>1.157628</td>\n",
       "    </tr>\n",
       "    <tr>\n",
       "      <th>LEFT CORNER FG%</th>\n",
       "      <td>0.920613</td>\n",
       "    </tr>\n",
       "    <tr>\n",
       "      <th>PAINT FG%</th>\n",
       "      <td>0.747733</td>\n",
       "    </tr>\n",
       "    <tr>\n",
       "      <th>CORNER 3 FGM</th>\n",
       "      <td>0.727262</td>\n",
       "    </tr>\n",
       "    <tr>\n",
       "      <th>PAINT FGA</th>\n",
       "      <td>0.571339</td>\n",
       "    </tr>\n",
       "    <tr>\n",
       "      <th>MIDRANGE FGM</th>\n",
       "      <td>0.562021</td>\n",
       "    </tr>\n",
       "    <tr>\n",
       "      <th>MIDRANGE FG%</th>\n",
       "      <td>0.558837</td>\n",
       "    </tr>\n",
       "    <tr>\n",
       "      <th>RIGHT CORNER FG%</th>\n",
       "      <td>0.505685</td>\n",
       "    </tr>\n",
       "    <tr>\n",
       "      <th>RIGHT CORNER FGA</th>\n",
       "      <td>0.385463</td>\n",
       "    </tr>\n",
       "    <tr>\n",
       "      <th>LEFT CORNER FGM</th>\n",
       "      <td>0.204214</td>\n",
       "    </tr>\n",
       "    <tr>\n",
       "      <th>ATB 3 FGM</th>\n",
       "      <td>0.038533</td>\n",
       "    </tr>\n",
       "    <tr>\n",
       "      <th>RA FGM</th>\n",
       "      <td>0.014200</td>\n",
       "    </tr>\n",
       "  </tbody>\n",
       "</table>\n",
       "</div>"
      ],
      "text/plain": [
       "                       coef\n",
       "ATB FGA           47.997147\n",
       "RA FGA            31.926353\n",
       "LEFT CORNER FGA    4.708449\n",
       "RIGHT CORNER FGM   2.862459\n",
       "MIDRANGE FGA       2.717992\n",
       "PAINT FGM          2.096351\n",
       "CORNER 3 FG%       1.510361\n",
       "RA FG%             1.492881\n",
       "CORNER 3 FGA       1.420344\n",
       "ATB FG%            1.157628\n",
       "LEFT CORNER FG%    0.920613\n",
       "PAINT FG%          0.747733\n",
       "CORNER 3 FGM       0.727262\n",
       "PAINT FGA          0.571339\n",
       "MIDRANGE FGM       0.562021\n",
       "MIDRANGE FG%       0.558837\n",
       "RIGHT CORNER FG%   0.505685\n",
       "RIGHT CORNER FGA   0.385463\n",
       "LEFT CORNER FGM    0.204214\n",
       "ATB 3 FGM          0.038533\n",
       "RA FGM             0.014200"
      ]
     },
     "execution_count": 313,
     "metadata": {},
     "output_type": "execute_result"
    }
   ],
   "source": [
    "odds = np.exp(model_log.coef_[0])\n",
    "pd.DataFrame(odds, \n",
    "             X_train.columns, \n",
    "             columns=['coef'])\\\n",
    "            .sort_values(by='coef', ascending=False)"
   ]
  },
  {
   "cell_type": "markdown",
   "metadata": {},
   "source": [
    "Remember that all of our parameters were standardized in such a way that their vales represented the number of standard deviations away from the mean of that particular column. "
   ]
  },
  {
   "cell_type": "markdown",
   "metadata": {},
   "source": [
    "So, The way to interpret these coefficients is by thinking: **“For every unit of standard deviation increase in opponents' ATB 3 FGA, the odds that the team made it to the playoffs are 49 times as large as the odds that the observation did not make it to the playoffs when all other variables are held constant.”**\n",
    "\n",
    "This doesn't make much sense right? The value seems to high. Moreover, the values jump from 47.9 to 31.9 and then to 4.7. It doesn't make sense that the top 2 variables have so much weight in the probability to make it to the playoffs, so there must be something wrong with the way we're feeding the data."
   ]
  },
  {
   "cell_type": "markdown",
   "metadata": {},
   "source": [
    "### Multicollinearity?"
   ]
  },
  {
   "cell_type": "markdown",
   "metadata": {},
   "source": [
    "If we look at our data, some columns are a combinations of other columns.\n",
    "\n",
    "Example: In order to calculate any FG% we simply take the FGM and divide it by FGA. You could say one is a linear combination of the other. \n",
    "\n",
    "This can lead to multicolinearity and although many ML models are good handling that, Logistic Regession isn't, so let's get rid of the columns that are dependent on each other."
   ]
  },
  {
   "cell_type": "code",
   "execution_count": 314,
   "metadata": {},
   "outputs": [],
   "source": [
    "related_col = ['LEFT CORNER FGM', 'LEFT CORNER FGM','LEFT CORNER FG%','RIGHT CORNER FGM','RIGHT CORNER FGM','RIGHT CORNER FG%',\n",
    " 'CORNER 3 FGM','ATB 3 FGM', 'MIDRANGE FGM', 'RA FGM', 'PAINT FGM']"
   ]
  },
  {
   "cell_type": "markdown",
   "metadata": {},
   "source": [
    "Let´s take a look at the **Opponent's Shooting model**:"
   ]
  },
  {
   "cell_type": "code",
   "execution_count": 391,
   "metadata": {},
   "outputs": [],
   "source": [
    "X_train,X_test, y_train, y_test = preprocessing(opponent_shooting,'PLAYOFFS')"
   ]
  },
  {
   "cell_type": "code",
   "execution_count": 392,
   "metadata": {},
   "outputs": [],
   "source": [
    "X_train = X_train.drop(columns=related_col)\n",
    "X_test = X_test.drop(columns=related_col)"
   ]
  },
  {
   "cell_type": "code",
   "execution_count": 403,
   "metadata": {
    "scrolled": true
   },
   "outputs": [
    {
     "name": "stdout",
     "output_type": "stream",
     "text": [
      "0    438\n",
      "1    184\n",
      "Name: PLAYOFFS, dtype: int64\n",
      "0    0.70418\n",
      "1    0.29582\n",
      "Name: PLAYOFFS, dtype: float64\n",
      "Precision for training: 0.7676056338028169\n",
      "Recall for training: 0.6488095238095238\n"
     ]
    }
   ],
   "source": [
    "logreg = LogisticRegression(fit_intercept=False, C=1e12, solver='liblinear')\n",
    "model_log = logreg.fit(X_train, y_train)\n",
    "\n",
    "y_hat_deffense = logreg.predict(X_test) #Storing Official Test Predictions for Defense\n",
    "y_hat_train = logreg.predict(X_train)\n",
    "\n",
    "residuals = np.abs(y_train - y_hat_train)\n",
    "print(pd.Series(residuals).value_counts())\n",
    "print(pd.Series(residuals).value_counts(normalize=True))\n",
    "\n",
    "print('Precision for training: {}'.format(precision_score(y_train,y_hat_train)))\n",
    "print('Recall for training: {}'.format(recall_score(y_train,y_hat_train)))"
   ]
  },
  {
   "cell_type": "markdown",
   "metadata": {},
   "source": [
    "Very similar performance results. Now let's take a look at our coefficients:"
   ]
  },
  {
   "cell_type": "code",
   "execution_count": 404,
   "metadata": {},
   "outputs": [
    {
     "data": {
      "text/html": [
       "<div>\n",
       "<style scoped>\n",
       "    .dataframe tbody tr th:only-of-type {\n",
       "        vertical-align: middle;\n",
       "    }\n",
       "\n",
       "    .dataframe tbody tr th {\n",
       "        vertical-align: top;\n",
       "    }\n",
       "\n",
       "    .dataframe thead th {\n",
       "        text-align: right;\n",
       "    }\n",
       "</style>\n",
       "<table border=\"1\" class=\"dataframe\">\n",
       "  <thead>\n",
       "    <tr style=\"text-align: right;\">\n",
       "      <th></th>\n",
       "      <th>coef</th>\n",
       "    </tr>\n",
       "  </thead>\n",
       "  <tbody>\n",
       "    <tr>\n",
       "      <th>RA FG%</th>\n",
       "      <td>2.372333</td>\n",
       "    </tr>\n",
       "    <tr>\n",
       "      <th>MIDRANGE FG%</th>\n",
       "      <td>1.510107</td>\n",
       "    </tr>\n",
       "    <tr>\n",
       "      <th>ATB FG%</th>\n",
       "      <td>1.340924</td>\n",
       "    </tr>\n",
       "    <tr>\n",
       "      <th>PAINT FG%</th>\n",
       "      <td>1.224927</td>\n",
       "    </tr>\n",
       "    <tr>\n",
       "      <th>RIGHT CORNER FGA</th>\n",
       "      <td>1.170049</td>\n",
       "    </tr>\n",
       "    <tr>\n",
       "      <th>RA FGA</th>\n",
       "      <td>1.112148</td>\n",
       "    </tr>\n",
       "    <tr>\n",
       "      <th>CORNER 3 FGA</th>\n",
       "      <td>1.107202</td>\n",
       "    </tr>\n",
       "    <tr>\n",
       "      <th>LEFT CORNER FGA</th>\n",
       "      <td>1.044612</td>\n",
       "    </tr>\n",
       "    <tr>\n",
       "      <th>CORNER 3 FG%</th>\n",
       "      <td>1.009748</td>\n",
       "    </tr>\n",
       "    <tr>\n",
       "      <th>MIDRANGE FGA</th>\n",
       "      <td>0.856464</td>\n",
       "    </tr>\n",
       "    <tr>\n",
       "      <th>ATB FGA</th>\n",
       "      <td>0.654292</td>\n",
       "    </tr>\n",
       "    <tr>\n",
       "      <th>PAINT FGA</th>\n",
       "      <td>0.632530</td>\n",
       "    </tr>\n",
       "  </tbody>\n",
       "</table>\n",
       "</div>"
      ],
      "text/plain": [
       "                      coef\n",
       "RA FG%            2.372333\n",
       "MIDRANGE FG%      1.510107\n",
       "ATB FG%           1.340924\n",
       "PAINT FG%         1.224927\n",
       "RIGHT CORNER FGA  1.170049\n",
       "RA FGA            1.112148\n",
       "CORNER 3 FGA      1.107202\n",
       "LEFT CORNER FGA   1.044612\n",
       "CORNER 3 FG%      1.009748\n",
       "MIDRANGE FGA      0.856464\n",
       "ATB FGA           0.654292\n",
       "PAINT FGA         0.632530"
      ]
     },
     "execution_count": 404,
     "metadata": {},
     "output_type": "execute_result"
    }
   ],
   "source": [
    "log_odds = model_log.coef_[0]\n",
    "pd.DataFrame(log_odds, \n",
    "             X_train.columns, \n",
    "             columns=['coef'])\\\n",
    "            .sort_values(by='coef', ascending=False)\n",
    "odds = np.exp(model_log.coef_[0])\n",
    "pd.DataFrame(odds, \n",
    "             X_train.columns, \n",
    "             columns=['coef'])\\\n",
    "            .sort_values(by='coef', ascending=False)"
   ]
  },
  {
   "cell_type": "markdown",
   "metadata": {},
   "source": [
    "In terms of interpretability, it got a lot better. We can see that allowing opponents to shoot one standard deviation better than the league average in the paint doesn't have as much influence as allowing teams to shoot one standard deviation away from the Restricted Area. If your team allows their opponents to shoot a FG% one standard deviation over the league average in the RA, they're 2.85 more likely to not make it to the playoffs, everything else kept equal. "
   ]
  },
  {
   "cell_type": "markdown",
   "metadata": {},
   "source": [
    "This model seems very good, I'll save it in a variable and use it later. I'll use the team shooting too:"
   ]
  },
  {
   "cell_type": "code",
   "execution_count": 406,
   "metadata": {},
   "outputs": [
    {
     "name": "stdout",
     "output_type": "stream",
     "text": [
      "0    438\n",
      "1    184\n",
      "Name: PLAYOFFS, dtype: int64\n",
      "0    0.70418\n",
      "1    0.29582\n",
      "Name: PLAYOFFS, dtype: float64\n",
      "Precision for training: 0.7676056338028169\n",
      "Recall for training: 0.6488095238095238\n"
     ]
    },
    {
     "data": {
      "text/html": [
       "<div>\n",
       "<style scoped>\n",
       "    .dataframe tbody tr th:only-of-type {\n",
       "        vertical-align: middle;\n",
       "    }\n",
       "\n",
       "    .dataframe tbody tr th {\n",
       "        vertical-align: top;\n",
       "    }\n",
       "\n",
       "    .dataframe thead th {\n",
       "        text-align: right;\n",
       "    }\n",
       "</style>\n",
       "<table border=\"1\" class=\"dataframe\">\n",
       "  <thead>\n",
       "    <tr style=\"text-align: right;\">\n",
       "      <th></th>\n",
       "      <th>coef</th>\n",
       "    </tr>\n",
       "  </thead>\n",
       "  <tbody>\n",
       "    <tr>\n",
       "      <th>RA FG%</th>\n",
       "      <td>2.372333</td>\n",
       "    </tr>\n",
       "    <tr>\n",
       "      <th>MIDRANGE FG%</th>\n",
       "      <td>1.510107</td>\n",
       "    </tr>\n",
       "    <tr>\n",
       "      <th>ATB FG%</th>\n",
       "      <td>1.340924</td>\n",
       "    </tr>\n",
       "    <tr>\n",
       "      <th>PAINT FG%</th>\n",
       "      <td>1.224927</td>\n",
       "    </tr>\n",
       "    <tr>\n",
       "      <th>RIGHT CORNER FGA</th>\n",
       "      <td>1.170049</td>\n",
       "    </tr>\n",
       "    <tr>\n",
       "      <th>RA FGA</th>\n",
       "      <td>1.112148</td>\n",
       "    </tr>\n",
       "    <tr>\n",
       "      <th>CORNER 3 FGA</th>\n",
       "      <td>1.107202</td>\n",
       "    </tr>\n",
       "    <tr>\n",
       "      <th>LEFT CORNER FGA</th>\n",
       "      <td>1.044612</td>\n",
       "    </tr>\n",
       "    <tr>\n",
       "      <th>CORNER 3 FG%</th>\n",
       "      <td>1.009748</td>\n",
       "    </tr>\n",
       "    <tr>\n",
       "      <th>MIDRANGE FGA</th>\n",
       "      <td>0.856464</td>\n",
       "    </tr>\n",
       "    <tr>\n",
       "      <th>ATB FGA</th>\n",
       "      <td>0.654292</td>\n",
       "    </tr>\n",
       "    <tr>\n",
       "      <th>PAINT FGA</th>\n",
       "      <td>0.632530</td>\n",
       "    </tr>\n",
       "  </tbody>\n",
       "</table>\n",
       "</div>"
      ],
      "text/plain": [
       "                      coef\n",
       "RA FG%            2.372333\n",
       "MIDRANGE FG%      1.510107\n",
       "ATB FG%           1.340924\n",
       "PAINT FG%         1.224927\n",
       "RIGHT CORNER FGA  1.170049\n",
       "RA FGA            1.112148\n",
       "CORNER 3 FGA      1.107202\n",
       "LEFT CORNER FGA   1.044612\n",
       "CORNER 3 FG%      1.009748\n",
       "MIDRANGE FGA      0.856464\n",
       "ATB FGA           0.654292\n",
       "PAINT FGA         0.632530"
      ]
     },
     "execution_count": 406,
     "metadata": {},
     "output_type": "execute_result"
    }
   ],
   "source": [
    "X_train,X_test, y_train, y_test = preprocessing(team_shooting,'PLAYOFFS')\n",
    "X_train = X_train.drop(columns=related_col)\n",
    "X_test = X_test.drop(columns=related_col)\n",
    "\n",
    "\n",
    "logreg = LogisticRegression(fit_intercept=False, C=1e12, solver='liblinear')\n",
    "model_log = logreg.fit(X_train, y_train)\n",
    "y_hat_offense = logreg.predict(X_test)\n",
    "\n",
    "y_hat_train = logreg.predict(X_train)\n",
    "\n",
    "residuals = np.abs(y_train - y_hat_train)\n",
    "print(pd.Series(residuals).value_counts())\n",
    "print(pd.Series(residuals).value_counts(normalize=True))\n",
    "\n",
    "print('Precision for training: {}'.format(precision_score(y_train,y_hat_train)))\n",
    "print('Recall for training: {}'.format(recall_score(y_train,y_hat_train)))\n",
    "\n",
    "log_odds = model_log.coef_[0]\n",
    "pd.DataFrame(log_odds, \n",
    "             X_train.columns, \n",
    "             columns=['coef'])\\\n",
    "            .sort_values(by='coef', ascending=False)\n",
    "odds = np.exp(model_log.coef_[0])\n",
    "pd.DataFrame(odds, \n",
    "             X_train.columns, \n",
    "             columns=['coef'])\\\n",
    "            .sort_values(by='coef', ascending=False)"
   ]
  },
  {
   "cell_type": "markdown",
   "metadata": {},
   "source": [
    "### Interpretability?"
   ]
  },
  {
   "cell_type": "markdown",
   "metadata": {},
   "source": [
    "Let's try keeping all of our parameters in the same units. That is, let every column contain information in the unit of \"shots\". This way our coefficient will have a little bit more literal meaning."
   ]
  },
  {
   "cell_type": "code",
   "execution_count": 321,
   "metadata": {},
   "outputs": [],
   "source": [
    "def preprocessing_noscale(df, target):\n",
    "    #Enter data, returns test train split without the scaler. \n",
    "    df = df.copy() #Mutability\n",
    "    \n",
    "    x_train, x_test = split(df)\n",
    "    \n",
    "    y_train = x_train[target]\n",
    "    y_test = x_test[target]\n",
    "    \n",
    "    x_train = x_train.drop(columns=['SEASON WIN PCT','PLAYOFFS','Winning Season','YEAR','TEAM'])\n",
    "    x_test = x_test.drop(columns=['SEASON WIN PCT','PLAYOFFS','Winning Season','YEAR','TEAM'])\n",
    "    \n",
    "    #x_train = scale(x_train)\n",
    "    #x_test = scale(x_test)\n",
    "    \n",
    "    \n",
    "    return x_train, x_test, y_train, y_test\n",
    "\n",
    "shots_columns = ['LEFT CORNER FGA', 'LEFT CORNER FGM','LEFT CORNER FG%','RIGHT CORNER FGA','RIGHT CORNER FGM','RIGHT CORNER FG%',\n",
    " 'CORNER 3 FG%','ATB FG%', 'MIDRANGE FG%', 'RA FG%', 'PAINT FG%']"
   ]
  },
  {
   "cell_type": "markdown",
   "metadata": {},
   "source": [
    "Let's try it out with the Team Shooting Model:"
   ]
  },
  {
   "cell_type": "markdown",
   "metadata": {},
   "source": [
    "### Interpretable Team Shooting"
   ]
  },
  {
   "cell_type": "code",
   "execution_count": 322,
   "metadata": {},
   "outputs": [
    {
     "name": "stdout",
     "output_type": "stream",
     "text": [
      "0    425\n",
      "1    197\n",
      "Name: PLAYOFFS, dtype: int64\n",
      "0    0.68328\n",
      "1    0.31672\n",
      "Name: PLAYOFFS, dtype: float64\n",
      "Precision for training: 0.7062314540059347\n",
      "Recall for training: 0.7083333333333334\n"
     ]
    },
    {
     "data": {
      "text/html": [
       "<div>\n",
       "<style scoped>\n",
       "    .dataframe tbody tr th:only-of-type {\n",
       "        vertical-align: middle;\n",
       "    }\n",
       "\n",
       "    .dataframe tbody tr th {\n",
       "        vertical-align: top;\n",
       "    }\n",
       "\n",
       "    .dataframe thead th {\n",
       "        text-align: right;\n",
       "    }\n",
       "</style>\n",
       "<table border=\"1\" class=\"dataframe\">\n",
       "  <thead>\n",
       "    <tr style=\"text-align: right;\">\n",
       "      <th></th>\n",
       "      <th>coef</th>\n",
       "    </tr>\n",
       "  </thead>\n",
       "  <tbody>\n",
       "    <tr>\n",
       "      <th>ATB 3 FGM</th>\n",
       "      <td>1.014819</td>\n",
       "    </tr>\n",
       "    <tr>\n",
       "      <th>RA FGM</th>\n",
       "      <td>1.013152</td>\n",
       "    </tr>\n",
       "    <tr>\n",
       "      <th>MIDRANGE FGM</th>\n",
       "      <td>1.009829</td>\n",
       "    </tr>\n",
       "    <tr>\n",
       "      <th>PAINT FGM</th>\n",
       "      <td>1.006004</td>\n",
       "    </tr>\n",
       "    <tr>\n",
       "      <th>CORNER 3 FGA</th>\n",
       "      <td>1.002373</td>\n",
       "    </tr>\n",
       "    <tr>\n",
       "      <th>CORNER 3 FGM</th>\n",
       "      <td>1.000446</td>\n",
       "    </tr>\n",
       "    <tr>\n",
       "      <th>MIDRANGE FGA</th>\n",
       "      <td>0.996259</td>\n",
       "    </tr>\n",
       "    <tr>\n",
       "      <th>PAINT FGA</th>\n",
       "      <td>0.995646</td>\n",
       "    </tr>\n",
       "    <tr>\n",
       "      <th>ATB FGA</th>\n",
       "      <td>0.993893</td>\n",
       "    </tr>\n",
       "    <tr>\n",
       "      <th>RA FGA</th>\n",
       "      <td>0.993131</td>\n",
       "    </tr>\n",
       "  </tbody>\n",
       "</table>\n",
       "</div>"
      ],
      "text/plain": [
       "                  coef\n",
       "ATB 3 FGM     1.014819\n",
       "RA FGM        1.013152\n",
       "MIDRANGE FGM  1.009829\n",
       "PAINT FGM     1.006004\n",
       "CORNER 3 FGA  1.002373\n",
       "CORNER 3 FGM  1.000446\n",
       "MIDRANGE FGA  0.996259\n",
       "PAINT FGA     0.995646\n",
       "ATB FGA       0.993893\n",
       "RA FGA        0.993131"
      ]
     },
     "execution_count": 322,
     "metadata": {},
     "output_type": "execute_result"
    }
   ],
   "source": [
    "X_train,X_test, y_train, y_test = preprocessing_noscale(team_shooting,'PLAYOFFS')\n",
    "\n",
    "X_train = X_train.drop(columns=shots_columns)\n",
    "X_test = X_test.drop(columns=shots_columns)\n",
    "\n",
    "logreg = LogisticRegression(fit_intercept=False, C=1e12, solver='liblinear')\n",
    "model_log = logreg.fit(X_train, y_train)\n",
    "model_log\n",
    "\n",
    "y_hat_test = logreg.predict(X_test)\n",
    "y_hat_train = logreg.predict(X_train)\n",
    "\n",
    "residuals = np.abs(y_train - y_hat_train)\n",
    "print(pd.Series(residuals).value_counts())\n",
    "print(pd.Series(residuals).value_counts(normalize=True))\n",
    "print('Precision for training: {}'.format(precision_score(y_train,y_hat_train)))\n",
    "print('Recall for training: {}'.format(recall_score(y_train,y_hat_train)))\n",
    "\n",
    "odds = np.exp(model_log.coef_[0])\n",
    "pd.DataFrame(odds, \n",
    "             X_train.columns, \n",
    "             columns=['coef'])\\\n",
    "            .sort_values(by='coef', ascending=False)\n",
    "\n"
   ]
  },
  {
   "cell_type": "markdown",
   "metadata": {},
   "source": [
    "This time our coefficients mean a different thing than when we were scaling. While we were previously talking about standard deviations away from the mean, we can now say that for every additional ATB 3 FGM, teams are 1.014 times more likely to make it to the playoffs everything else kept equal. "
   ]
  },
  {
   "cell_type": "markdown",
   "metadata": {},
   "source": [
    "### Interpretable Opponent Shooting "
   ]
  },
  {
   "cell_type": "code",
   "execution_count": 323,
   "metadata": {},
   "outputs": [
    {
     "name": "stdout",
     "output_type": "stream",
     "text": [
      "0    473\n",
      "1    149\n",
      "Name: PLAYOFFS, dtype: int64\n",
      "0    0.76045\n",
      "1    0.23955\n",
      "Name: PLAYOFFS, dtype: float64\n",
      "Precision for training: 0.7741935483870968\n",
      "Recall for training: 0.7857142857142857\n"
     ]
    },
    {
     "data": {
      "text/html": [
       "<div>\n",
       "<style scoped>\n",
       "    .dataframe tbody tr th:only-of-type {\n",
       "        vertical-align: middle;\n",
       "    }\n",
       "\n",
       "    .dataframe tbody tr th {\n",
       "        vertical-align: top;\n",
       "    }\n",
       "\n",
       "    .dataframe thead th {\n",
       "        text-align: right;\n",
       "    }\n",
       "</style>\n",
       "<table border=\"1\" class=\"dataframe\">\n",
       "  <thead>\n",
       "    <tr style=\"text-align: right;\">\n",
       "      <th></th>\n",
       "      <th>coef</th>\n",
       "    </tr>\n",
       "  </thead>\n",
       "  <tbody>\n",
       "    <tr>\n",
       "      <th>CORNER 3 FGA</th>\n",
       "      <td>1.012069</td>\n",
       "    </tr>\n",
       "    <tr>\n",
       "      <th>ATB FGA</th>\n",
       "      <td>1.010390</td>\n",
       "    </tr>\n",
       "    <tr>\n",
       "      <th>MIDRANGE FGA</th>\n",
       "      <td>1.008949</td>\n",
       "    </tr>\n",
       "    <tr>\n",
       "      <th>RA FGA</th>\n",
       "      <td>1.007709</td>\n",
       "    </tr>\n",
       "    <tr>\n",
       "      <th>PAINT FGM</th>\n",
       "      <td>1.002074</td>\n",
       "    </tr>\n",
       "    <tr>\n",
       "      <th>PAINT FGA</th>\n",
       "      <td>0.999930</td>\n",
       "    </tr>\n",
       "    <tr>\n",
       "      <th>RA FGM</th>\n",
       "      <td>0.983425</td>\n",
       "    </tr>\n",
       "    <tr>\n",
       "      <th>MIDRANGE FGM</th>\n",
       "      <td>0.979702</td>\n",
       "    </tr>\n",
       "    <tr>\n",
       "      <th>ATB 3 FGM</th>\n",
       "      <td>0.977368</td>\n",
       "    </tr>\n",
       "    <tr>\n",
       "      <th>CORNER 3 FGM</th>\n",
       "      <td>0.971169</td>\n",
       "    </tr>\n",
       "  </tbody>\n",
       "</table>\n",
       "</div>"
      ],
      "text/plain": [
       "                  coef\n",
       "CORNER 3 FGA  1.012069\n",
       "ATB FGA       1.010390\n",
       "MIDRANGE FGA  1.008949\n",
       "RA FGA        1.007709\n",
       "PAINT FGM     1.002074\n",
       "PAINT FGA     0.999930\n",
       "RA FGM        0.983425\n",
       "MIDRANGE FGM  0.979702\n",
       "ATB 3 FGM     0.977368\n",
       "CORNER 3 FGM  0.971169"
      ]
     },
     "execution_count": 323,
     "metadata": {},
     "output_type": "execute_result"
    }
   ],
   "source": [
    "X_train,X_test, y_train, y_test = preprocessing_noscale(opponent_shooting,'PLAYOFFS')\n",
    "\n",
    "X_train = X_train.drop(columns=shots_columns)\n",
    "X_test = X_test.drop(columns=shots_columns)\n",
    "\n",
    "logreg = LogisticRegression(fit_intercept=False, C=1e12, solver='liblinear')\n",
    "model_log = logreg.fit(X_train, y_train)\n",
    "model_log\n",
    "\n",
    "y_hat_test = logreg.predict(X_test)\n",
    "y_hat_train = logreg.predict(X_train)\n",
    "\n",
    "residuals = np.abs(y_train - y_hat_train)\n",
    "print(pd.Series(residuals).value_counts())\n",
    "print(pd.Series(residuals).value_counts(normalize=True))\n",
    "print('Precision for training: {}'.format(precision_score(y_train,y_hat_train)))\n",
    "print('Recall for training: {}'.format(recall_score(y_train,y_hat_train)))\n",
    "\n",
    "odds = np.exp(model_log.coef_[0])\n",
    "pd.DataFrame(odds, \n",
    "             X_train.columns, \n",
    "             columns=['coef'])\\\n",
    "            .sort_values(by='coef', ascending=False)\n"
   ]
  },
  {
   "cell_type": "markdown",
   "metadata": {},
   "source": [
    "Same thing here except, the performance is very good for this model. "
   ]
  },
  {
   "cell_type": "markdown",
   "metadata": {},
   "source": [
    "## Team Winning Season as Target "
   ]
  },
  {
   "cell_type": "markdown",
   "metadata": {},
   "source": [
    "You must be wondering why we used playoffs and not winning season as a target variabla all along. Well, plot-twist I decided to change the objective of the project to find what makes a good team good based on whether or not they *made it to the playoffs*\n",
    "\n",
    "This makes a lot more sense than my arbitrary idea of using 0.5 as a treshold to classify teams as good or bad:\n",
    "- Is a 0.48 win team all that different from a 0.5 win team? Absolutely not, there is one game difference\n",
    "- Playoffs is a binary result of the season. Teams either classify or not, there is a huge difference between a playoff team and one that didn't make it. \n",
    "- Teams that make it to the playoffs play more games in their arenas, which means more beer sold, more tv contracts payed, more fans and an opportunity to win it all. Literally the difference between more business or not.\n",
    "\n",
    "But just for the fun of it, let's use it as a target variable:"
   ]
  },
  {
   "cell_type": "code",
   "execution_count": 324,
   "metadata": {},
   "outputs": [
    {
     "name": "stdout",
     "output_type": "stream",
     "text": [
      "0    431\n",
      "1    191\n",
      "Name: Winning Season, dtype: int64\n",
      "0    0.692926\n",
      "1    0.307074\n",
      "Name: Winning Season, dtype: float64\n",
      "Precision for training: 0.7202216066481995\n",
      "Recall for training: 0.7428571428571429\n"
     ]
    },
    {
     "data": {
      "text/html": [
       "<div>\n",
       "<style scoped>\n",
       "    .dataframe tbody tr th:only-of-type {\n",
       "        vertical-align: middle;\n",
       "    }\n",
       "\n",
       "    .dataframe tbody tr th {\n",
       "        vertical-align: top;\n",
       "    }\n",
       "\n",
       "    .dataframe thead th {\n",
       "        text-align: right;\n",
       "    }\n",
       "</style>\n",
       "<table border=\"1\" class=\"dataframe\">\n",
       "  <thead>\n",
       "    <tr style=\"text-align: right;\">\n",
       "      <th></th>\n",
       "      <th>coef</th>\n",
       "    </tr>\n",
       "  </thead>\n",
       "  <tbody>\n",
       "    <tr>\n",
       "      <th>ATB 3 FGM</th>\n",
       "      <td>1.020496</td>\n",
       "    </tr>\n",
       "    <tr>\n",
       "      <th>RA FGM</th>\n",
       "      <td>1.014364</td>\n",
       "    </tr>\n",
       "    <tr>\n",
       "      <th>MIDRANGE FGM</th>\n",
       "      <td>1.009998</td>\n",
       "    </tr>\n",
       "    <tr>\n",
       "      <th>PAINT FGM</th>\n",
       "      <td>1.004223</td>\n",
       "    </tr>\n",
       "    <tr>\n",
       "      <th>CORNER 3 FGA</th>\n",
       "      <td>1.001820</td>\n",
       "    </tr>\n",
       "    <tr>\n",
       "      <th>CORNER 3 FGM</th>\n",
       "      <td>1.000851</td>\n",
       "    </tr>\n",
       "    <tr>\n",
       "      <th>PAINT FGA</th>\n",
       "      <td>0.996543</td>\n",
       "    </tr>\n",
       "    <tr>\n",
       "      <th>MIDRANGE FGA</th>\n",
       "      <td>0.996206</td>\n",
       "    </tr>\n",
       "    <tr>\n",
       "      <th>RA FGA</th>\n",
       "      <td>0.992352</td>\n",
       "    </tr>\n",
       "    <tr>\n",
       "      <th>ATB FGA</th>\n",
       "      <td>0.992166</td>\n",
       "    </tr>\n",
       "  </tbody>\n",
       "</table>\n",
       "</div>"
      ],
      "text/plain": [
       "                  coef\n",
       "ATB 3 FGM     1.020496\n",
       "RA FGM        1.014364\n",
       "MIDRANGE FGM  1.009998\n",
       "PAINT FGM     1.004223\n",
       "CORNER 3 FGA  1.001820\n",
       "CORNER 3 FGM  1.000851\n",
       "PAINT FGA     0.996543\n",
       "MIDRANGE FGA  0.996206\n",
       "RA FGA        0.992352\n",
       "ATB FGA       0.992166"
      ]
     },
     "execution_count": 324,
     "metadata": {},
     "output_type": "execute_result"
    }
   ],
   "source": [
    "X_train,X_test, y_train, y_test = preprocessing_noscale(team_shooting,'Winning Season')\n",
    "\n",
    "X_train = X_train.drop(columns=shots_columns)\n",
    "X_test = X_test.drop(columns=shots_columns)\n",
    "\n",
    "logreg = LogisticRegression(fit_intercept=False, C=1e12, solver='liblinear')\n",
    "model_log = logreg.fit(X_train, y_train)\n",
    "model_log\n",
    "\n",
    "y_hat_test = logreg.predict(X_test)\n",
    "y_hat_train = logreg.predict(X_train)\n",
    "\n",
    "residuals = np.abs(y_train - y_hat_train)\n",
    "print(pd.Series(residuals).value_counts())\n",
    "print(pd.Series(residuals).value_counts(normalize=True))\n",
    "print('Precision for training: {}'.format(precision_score(y_train,y_hat_train)))\n",
    "print('Recall for training: {}'.format(recall_score(y_train,y_hat_train)))\n",
    "\n",
    "odds = np.exp(model_log.coef_[0])\n",
    "pd.DataFrame(odds, \n",
    "             X_train.columns, \n",
    "             columns=['coef'])\\\n",
    "            .sort_values(by='coef', ascending=False)"
   ]
  },
  {
   "cell_type": "markdown",
   "metadata": {},
   "source": [
    "Meh, let's stick to the playoffs target variable."
   ]
  },
  {
   "cell_type": "markdown",
   "metadata": {},
   "source": [
    "## Decision Trees\n",
    "\n",
    "let´s try a different model:\n",
    "This time we'll use Decision Trees to classify our teams into playoff and non-playoff teams. Decision Trees have a lot of advantages, like the fact that they handle multicolinearity much better. One thing we'll have to keep in mind though is that trees usually overfit data pretty badly, so using training data for our metrics is out of the question. \n"
   ]
  },
  {
   "cell_type": "code",
   "execution_count": 325,
   "metadata": {},
   "outputs": [],
   "source": [
    "from sklearn.metrics import accuracy_score, confusion_matrix, classification_report\n",
    "from sklearn.tree import DecisionTreeClassifier\n",
    "from sklearn.ensemble import BaggingClassifier, RandomForestClassifier"
   ]
  },
  {
   "cell_type": "markdown",
   "metadata": {},
   "source": [
    "#### Team Shooting, Playoffs, Decision Tree"
   ]
  },
  {
   "cell_type": "code",
   "execution_count": 363,
   "metadata": {},
   "outputs": [],
   "source": [
    "def plot_feature_importances(model, data):\n",
    "    n_features = data.shape[1]\n",
    "    plt.figure(figsize=(8,8))\n",
    "    plt.barh(range(n_features), model.feature_importances_, align='center') \n",
    "    plt.yticks(np.arange(n_features), data.columns.values) \n",
    "    plt.xlabel('Feature importance')\n",
    "    plt.ylabel('Feature')\n",
    "\n",
    "def tree_model(data, criteria, depth):\n",
    "    '''Takes in dataframe, criteria in string format and max depth in order to calculate Decision Tree. \n",
    "    Prints metrics. '''\n",
    "    \n",
    "    X_train_tree, X_test_tree, y_train_tree, y_test_tree = preprocessing(data,'PLAYOFFS')\n",
    "    \n",
    "    tree_clf = DecisionTreeClassifier(criterion=criteria, max_depth=depth)\n",
    "    tree_clf.fit(X_train_tree, y_train_tree)\n",
    "    \n",
    "    plot_feature_importances(tree_clf, X_train_tree)\n",
    " \n",
    "    \n",
    "    y_hat_train = tree_clf.predict(X_train_tree)\n",
    "    print('Train Accuracy: ', accuracy_score(y_train_tree, y_hat_train))\n",
    "    \n",
    "    y_hat_test = tree_clf.predict(X_test_tree)\n",
    "    print('Test Accuracy: ', accuracy_score(y_test_tree, y_hat_test))\n",
    "    \n",
    "    print(confusion_matrix(y_hat_test, y_test_tree))\n",
    "    print(classification_report(y_hat_test, y_test_tree))\n",
    "    "
   ]
  },
  {
   "cell_type": "markdown",
   "metadata": {},
   "source": [
    "Let's run a tree using entropy and 5 as our max depth. "
   ]
  },
  {
   "cell_type": "code",
   "execution_count": 366,
   "metadata": {
    "scrolled": false
   },
   "outputs": [
    {
     "name": "stdout",
     "output_type": "stream",
     "text": [
      "Train Accuracy:  0.7411575562700965\n",
      "Test Accuracy:  0.75\n",
      "[[43 17]\n",
      " [13 47]]\n",
      "              precision    recall  f1-score   support\n",
      "\n",
      "           0       0.77      0.72      0.74        60\n",
      "           1       0.73      0.78      0.76        60\n",
      "\n",
      "    accuracy                           0.75       120\n",
      "   macro avg       0.75      0.75      0.75       120\n",
      "weighted avg       0.75      0.75      0.75       120\n",
      "\n"
     ]
    },
    {
     "data": {
      "image/png": "[encoded data removed]",
      "text/plain": [
       "<Figure size 576x576 with 1 Axes>"
      ]
     },
     "metadata": {
      "needs_background": "light"
     },
     "output_type": "display_data"
    }
   ],
   "source": [
    "tree_model(team_shooting, 'entropy', 5)"
   ]
  },
  {
   "cell_type": "code",
   "execution_count": 367,
   "metadata": {
    "scrolled": false
   },
   "outputs": [
    {
     "name": "stdout",
     "output_type": "stream",
     "text": [
      "Train Accuracy:  0.7668810289389068\n",
      "Test Accuracy:  0.6166666666666667\n",
      "[[32 22]\n",
      " [24 42]]\n",
      "              precision    recall  f1-score   support\n",
      "\n",
      "           0       0.57      0.59      0.58        54\n",
      "           1       0.66      0.64      0.65        66\n",
      "\n",
      "    accuracy                           0.62       120\n",
      "   macro avg       0.61      0.61      0.61       120\n",
      "weighted avg       0.62      0.62      0.62       120\n",
      "\n"
     ]
    },
    {
     "data": {
      "image/png": "[encoded data removed]",
      "text/plain": [
       "<Figure size 576x576 with 1 Axes>"
      ]
     },
     "metadata": {
      "needs_background": "light"
     },
     "output_type": "display_data"
    }
   ],
   "source": [
    "tree_model(opponent_shooting, 'entropy', 4)"
   ]
  },
  {
   "cell_type": "markdown",
   "metadata": {},
   "source": [
    "### Hyperparameters Tuning"
   ]
  },
  {
   "cell_type": "code",
   "execution_count": 368,
   "metadata": {},
   "outputs": [],
   "source": [
    "from sklearn.model_selection import GridSearchCV\n",
    "def optimum_model(data):\n",
    "    '''Takes in a dataframe and returns the classifier but fitted\n",
    "    with the best hyperparamters using scikit's GridSearchCV. Hyperparameters\n",
    "    to compare are already chosen inside the function as well as their possible values.'''\n",
    "    \n",
    "    X_train_tree, X_test_tree, y_train_tree, y_test_tree = preprocessing(data,'PLAYOFFS')\n",
    "    clf = DecisionTreeClassifier()\n",
    "    \n",
    "    param_grid = {\n",
    "    'criterion': ['gini', 'entropy'],\n",
    "    'max_depth': [1, 2, 3, 4, 5, 10],\n",
    "    'min_samples_split': [3, 5, 10, 20]\n",
    "    }\n",
    "        \n",
    "  \n",
    "    gs_tree = GridSearchCV(clf, param_grid, cv=3)\n",
    "    gs_tree.fit(X_train_tree, y_train_tree)\n",
    "    \n",
    "    y_hat_test = gs_tree.predict(X_test_tree)\n",
    "    y_hat_train = gs_tree.predict(X_train_tree)\n",
    "    \n",
    "    y_hat_train = gs_tree.predict(X_train_tree)\n",
    "    print('Train Accuracy: ', accuracy_score(y_train_tree, y_hat_train))\n",
    "    \n",
    "    y_hat_test = gs_tree.predict(X_test_tree)\n",
    "    print('Test Accuracy: ', accuracy_score(y_test_tree, y_hat_test))\n",
    "    \n",
    "    #plot_feature_importances(gs_tree)\n",
    "    \n",
    "    print(confusion_matrix(y_hat_test, y_test_tree))\n",
    "    print(classification_report(y_hat_test, y_test_tree))\n",
    "\n"
   ]
  },
  {
   "cell_type": "markdown",
   "metadata": {},
   "source": [
    "By using Scikit's GridSearchCV we can systematically look for the best combination of hyperparameters to feed our model and use. "
   ]
  },
  {
   "cell_type": "code",
   "execution_count": 369,
   "metadata": {},
   "outputs": [
    {
     "name": "stdout",
     "output_type": "stream",
     "text": [
      "Train Accuracy:  0.7106109324758842\n",
      "Test Accuracy:  0.6583333333333333\n",
      "[[41 26]\n",
      " [15 38]]\n",
      "              precision    recall  f1-score   support\n",
      "\n",
      "           0       0.73      0.61      0.67        67\n",
      "           1       0.59      0.72      0.65        53\n",
      "\n",
      "    accuracy                           0.66       120\n",
      "   macro avg       0.66      0.66      0.66       120\n",
      "weighted avg       0.67      0.66      0.66       120\n",
      "\n"
     ]
    }
   ],
   "source": [
    "optimum_tree = optimum_model(team_shooting)"
   ]
  },
  {
   "cell_type": "markdown",
   "metadata": {},
   "source": [
    "Even though none of the individual decision trees did as good as the logistic regression, their insights proved to be worthy of our time. We can try our luck by trying an ensemble mehtod that uses many of these trees to make a better model:"
   ]
  },
  {
   "cell_type": "markdown",
   "metadata": {},
   "source": [
    "## Ensemble Methods"
   ]
  },
  {
   "cell_type": "markdown",
   "metadata": {},
   "source": [
    "### Random Forest"
   ]
  },
  {
   "cell_type": "code",
   "execution_count": 378,
   "metadata": {},
   "outputs": [],
   "source": [
    "def forest_model(data, estimators, depth):\n",
    "    X_train_forest, X_test_forest, y_train_forest, y_test_forest = preprocessing(data,'PLAYOFFS')\n",
    "    \n",
    "    forest = RandomForestClassifier(n_estimators=estimators, max_depth=depth)\n",
    "    forest.fit(X_train_forest, y_train_forest)\n",
    "    y_hat_test = forest.predict(X_test_forest)\n",
    "    print(classification_report(y_hat_test, y_test_forest))\n",
    "    \n",
    "    print(forest.score(X_test_forest, y_test_forest))\n",
    "    plot_feature_importances(forest, X_train_forest)"
   ]
  },
  {
   "cell_type": "code",
   "execution_count": 379,
   "metadata": {},
   "outputs": [
    {
     "name": "stdout",
     "output_type": "stream",
     "text": [
      "              precision    recall  f1-score   support\n",
      "\n",
      "           0       0.73      0.75      0.74        55\n",
      "           1       0.78      0.77      0.78        65\n",
      "\n",
      "    accuracy                           0.76       120\n",
      "   macro avg       0.76      0.76      0.76       120\n",
      "weighted avg       0.76      0.76      0.76       120\n",
      "\n",
      "0.7583333333333333\n"
     ]
    },
    {
     "data": {
      "image/png": "[encoded data removed]",
      "text/plain": [
       "<Figure size 576x576 with 1 Axes>"
      ]
     },
     "metadata": {
      "needs_background": "light"
     },
     "output_type": "display_data"
    }
   ],
   "source": [
    "forest_model(team_shooting, 100, 5)"
   ]
  },
  {
   "cell_type": "markdown",
   "metadata": {},
   "source": [
    "A very important benefit of using Random forests is that there is a lot of interpretability. Since each tree in the random forest is a Glass-Box Model (as opposed to black box ones) we can see how our random forest thinks certain parameters helped it get to that decision."
   ]
  },
  {
   "cell_type": "code",
   "execution_count": 380,
   "metadata": {},
   "outputs": [
    {
     "name": "stdout",
     "output_type": "stream",
     "text": [
      "              precision    recall  f1-score   support\n",
      "\n",
      "           0       0.59      0.72      0.65        46\n",
      "           1       0.80      0.69      0.74        74\n",
      "\n",
      "    accuracy                           0.70       120\n",
      "   macro avg       0.69      0.70      0.69       120\n",
      "weighted avg       0.72      0.70      0.70       120\n",
      "\n",
      "0.7\n"
     ]
    },
    {
     "data": {
      "image/png": "[encoded data removed]",
      "text/plain": [
       "<Figure size 576x576 with 1 Axes>"
      ]
     },
     "metadata": {
      "needs_background": "light"
     },
     "output_type": "display_data"
    }
   ],
   "source": [
    "forest_model(opponent_shooting, 100, 5)"
   ]
  },
  {
   "cell_type": "markdown",
   "metadata": {},
   "source": [
    "Again we notice that our most important indicator is the midrange FG%"
   ]
  },
  {
   "cell_type": "markdown",
   "metadata": {},
   "source": [
    "Finally, let's use our test data to see how our selected logistic regression models do against one another. Remember we selected the models after we removed multicollinearity:"
   ]
  },
  {
   "cell_type": "code",
   "execution_count": 397,
   "metadata": {
    "scrolled": false
   },
   "outputs": [
    {
     "name": "stdout",
     "output_type": "stream",
     "text": [
      "              precision    recall  f1-score   support\n",
      "\n",
      "           0       0.77      0.68      0.72        63\n",
      "           1       0.69      0.77      0.73        57\n",
      "\n",
      "    accuracy                           0.73       120\n",
      "   macro avg       0.73      0.73      0.72       120\n",
      "weighted avg       0.73      0.72      0.72       120\n",
      "\n"
     ]
    }
   ],
   "source": [
    "print(classification_report(y_hat_offense, y_test))"
   ]
  },
  {
   "cell_type": "code",
   "execution_count": 398,
   "metadata": {},
   "outputs": [
    {
     "name": "stdout",
     "output_type": "stream",
     "text": [
      "              precision    recall  f1-score   support\n",
      "\n",
      "           0       0.68      0.66      0.67        58\n",
      "           1       0.69      0.71      0.70        62\n",
      "\n",
      "    accuracy                           0.68       120\n",
      "   macro avg       0.68      0.68      0.68       120\n",
      "weighted avg       0.68      0.68      0.68       120\n",
      "\n"
     ]
    }
   ],
   "source": [
    "print(classification_report(y_hat_deffense, y_test))"
   ]
  },
  {
   "cell_type": "markdown",
   "metadata": {},
   "source": [
    "No big pattern or insight jumps out of our research from our defense vs offense models. This *could* be due to the small amount of data. "
   ]
  },
  {
   "cell_type": "markdown",
   "metadata": {},
   "source": [
    "# Conclussions"
   ]
  },
  {
   "cell_type": "markdown",
   "metadata": {},
   "source": [
    "Three basic conclussions:\n",
    "\n",
    "- One actual difference between offense and defense is that teams that struggle guarding the midrange are considerably less likely (2x less probable for every standard deviation away from the mean) to make it to the playoffs. On the other hand teams that shoot a midrange % that is one standard deviation away from the mean are 1.5x more likely to make it to the playoffs.\n",
    "\n",
    "- Based on this project, there is no clear advantage of using a model that only reads offensive stats and another one that only reads deffensive stats. Based on model metrics, there is no definitive winner on classifying playoff teams.  \n",
    "- There is much work to do in shot location based modeling. Different models threw different results. We can learn a lot about the league and interpret results this way. "
   ]
  },
  {
   "cell_type": "markdown",
   "metadata": {},
   "source": [
    "## Next Steps:\n"
   ]
  },
  {
   "cell_type": "markdown",
   "metadata": {},
   "source": [
    "Gather much more data. This can be done in many ways. Shooting location can be done by game and the target value be win or loss by the team. That way a lot of data can be obtained. \n",
    "\n",
    "Try shot distance and other models instead of categorical \"Shot location\" format"
   ]
  }
 ],
 "metadata": {
  "kernelspec": {
   "display_name": "learn-env",
   "language": "python",
   "name": "learn-env"
  },
  "language_info": {
   "codemirror_mode": {
    "name": "ipython",
    "version": 3
   },
   "file_extension": ".py",
   "mimetype": "text/x-python",
   "name": "python",
   "nbconvert_exporter": "python",
   "pygments_lexer": "ipython3",
   "version": "3.6.9"
  }
 },
 "nbformat": 4,
 "nbformat_minor": 4
}
